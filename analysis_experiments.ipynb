{
 "cells": [
  {
   "cell_type": "markdown",
   "id": "74979aa8",
   "metadata": {},
   "source": [
    "# PREP"
   ]
  },
  {
   "cell_type": "code",
   "execution_count": 1,
   "id": "bf965019",
   "metadata": {},
   "outputs": [
    {
     "name": "stderr",
     "output_type": "stream",
     "text": [
      "2023-07-21 06:06:32.950878: I tensorflow/stream_executor/platform/default/dso_loader.cc:49] Successfully opened dynamic library libcudart.so.10.1\n",
      "2023-07-21 06:06:35.098627: I tensorflow/compiler/jit/xla_cpu_device.cc:41] Not creating XLA devices, tf_xla_enable_xla_devices not set\n",
      "2023-07-21 06:06:35.098746: I tensorflow/stream_executor/platform/default/dso_loader.cc:49] Successfully opened dynamic library libcuda.so.1\n",
      "2023-07-21 06:06:35.169331: I tensorflow/core/common_runtime/gpu/gpu_device.cc:1720] Found device 0 with properties: \n",
      "pciBusID: 0000:18:00.0 name: GeForce RTX 2080 Ti computeCapability: 7.5\n",
      "coreClock: 1.545GHz coreCount: 68 deviceMemorySize: 10.76GiB deviceMemoryBandwidth: 573.69GiB/s\n",
      "2023-07-21 06:06:35.170105: I tensorflow/core/common_runtime/gpu/gpu_device.cc:1720] Found device 1 with properties: \n",
      "pciBusID: 0000:3b:00.0 name: GeForce RTX 2080 Ti computeCapability: 7.5\n",
      "coreClock: 1.545GHz coreCount: 68 deviceMemorySize: 10.76GiB deviceMemoryBandwidth: 573.69GiB/s\n",
      "2023-07-21 06:06:35.170513: I tensorflow/core/common_runtime/gpu/gpu_device.cc:1720] Found device 2 with properties: \n",
      "pciBusID: 0000:86:00.0 name: GeForce RTX 2080 Ti computeCapability: 7.5\n",
      "coreClock: 1.545GHz coreCount: 68 deviceMemorySize: 10.76GiB deviceMemoryBandwidth: 573.69GiB/s\n",
      "2023-07-21 06:06:35.170916: I tensorflow/core/common_runtime/gpu/gpu_device.cc:1720] Found device 3 with properties: \n",
      "pciBusID: 0000:af:00.0 name: GeForce RTX 2080 Ti computeCapability: 7.5\n",
      "coreClock: 1.545GHz coreCount: 68 deviceMemorySize: 10.76GiB deviceMemoryBandwidth: 573.69GiB/s\n",
      "2023-07-21 06:06:35.170950: I tensorflow/stream_executor/platform/default/dso_loader.cc:49] Successfully opened dynamic library libcudart.so.10.1\n",
      "2023-07-21 06:06:35.172958: I tensorflow/stream_executor/platform/default/dso_loader.cc:49] Successfully opened dynamic library libcublas.so.10\n",
      "2023-07-21 06:06:35.173034: I tensorflow/stream_executor/platform/default/dso_loader.cc:49] Successfully opened dynamic library libcublasLt.so.10\n",
      "2023-07-21 06:06:35.173055: I tensorflow/stream_executor/platform/default/dso_loader.cc:49] Successfully opened dynamic library libcufft.so.10\n",
      "2023-07-21 06:06:35.173074: I tensorflow/stream_executor/platform/default/dso_loader.cc:49] Successfully opened dynamic library libcurand.so.10\n",
      "2023-07-21 06:06:35.175055: I tensorflow/stream_executor/platform/default/dso_loader.cc:49] Successfully opened dynamic library libcusolver.so.10\n",
      "2023-07-21 06:06:35.176048: I tensorflow/stream_executor/platform/default/dso_loader.cc:49] Successfully opened dynamic library libcusparse.so.10\n",
      "2023-07-21 06:06:35.180336: I tensorflow/stream_executor/platform/default/dso_loader.cc:49] Successfully opened dynamic library libcudnn.so.7\n",
      "2023-07-21 06:06:35.184631: I tensorflow/core/common_runtime/gpu/gpu_device.cc:1862] Adding visible gpu devices: 0, 1, 2, 3\n"
     ]
    }
   ],
   "source": [
    "import os\n",
    "import numpy as np\n",
    "import math\n",
    "import pandas as pd\n",
    "import re\n",
    "from functools import reduce\n",
    "from collections import OrderedDict\n",
    "from itertools import chain\n",
    "import matplotlib.pyplot as plt\n",
    "import seaborn as sns\n",
    "from sklearn.metrics import (\n",
    "    classification_report, \n",
    "    confusion_matrix, \n",
    "    multilabel_confusion_matrix,\n",
    "    ConfusionMatrixDisplay, \n",
    "    accuracy_score\n",
    ")\n",
    "from wildlifeml.utils.io import (\n",
    "    load_csv, \n",
    "    load_json, \n",
    "    load_pickle,\n",
    ")"
   ]
  },
  {
   "cell_type": "markdown",
   "id": "35e11bdd",
   "metadata": {},
   "source": [
    "## SET MD4 OR MD5 / RESULTDIR"
   ]
  },
  {
   "cell_type": "code",
   "execution_count": 67,
   "id": "4ef1665b",
   "metadata": {},
   "outputs": [],
   "source": [
    "# REPODIR = '/home/lisa-wm/Documents/1_work/1_research/repos/wildlife-experiments'\n",
    "REPODIR = '/home/wimmerl/projects/wildlife-experiments/'\n",
    "# RESULTDIR = os.path.join(REPODIR, 'results', 'bavaria', 'md5')\n",
    "# DATADIR = os.path.join(REPODIR, 'data', 'bavaria', 'md5')\n",
    "# FIGDIR = os.path.join(REPODIR, 'figures', 'bavaria', 'md5')\n",
    "# LABEL_MAP = load_json(os.path.join(DATADIR, 'label_map.json'))\n",
    "RESULTDIR = os.path.join(REPODIR, 'results', 'channel_islands')\n",
    "DATADIR = os.path.join(REPODIR, 'data', 'channel_islands')\n",
    "FIGDIR = os.path.join(REPODIR, 'figures', 'channel_islands')\n",
    "LABEL_MAP = load_json(os.path.join(DATADIR, 'label_map_names.json'))\n",
    "EMPTY_CLASS = LABEL_MAP.get('empty')\n",
    "\n",
    "# SUFFIX_PKL = '.pkl'\n",
    "# SUFFIX = ''\n",
    "# OUR_THRESH = 0.5\n",
    "SUFFIX_PKL = '.pkl'\n",
    "SUFFIX = 'md5'\n",
    "OUR_THRESH = 0.1"
   ]
  },
  {
   "cell_type": "code",
   "execution_count": 3,
   "id": "936b3039",
   "metadata": {},
   "outputs": [
    {
     "data": {
      "text/plain": [
       "{'empty': 0,\n",
       " 'human': 1,\n",
       " 'fox': 2,\n",
       " 'skunk': 3,\n",
       " 'rodent': 4,\n",
       " 'bird': 5,\n",
       " 'other': 6}"
      ]
     },
     "execution_count": 3,
     "metadata": {},
     "output_type": "execute_result"
    }
   ],
   "source": [
    "LABEL_MAP"
   ]
  },
  {
   "cell_type": "code",
   "execution_count": 68,
   "id": "aa570de4",
   "metadata": {
    "scrolled": true
   },
   "outputs": [],
   "source": [
    "CFG = load_json(os.path.join(REPODIR, 'configs/cfg.json'))\n",
    "CONFMAT_ARGS = {\n",
    "    'normalize': 'true',\n",
    "    'values_format': '.2f',\n",
    "    'xticks_rotation': 45,\n",
    "    'colorbar': False,\n",
    "    'cmap': 'Blues',\n",
    "}\n",
    "CONFMAT_PLT_ARGS = {\n",
    "    'figure.figsize': (6, 6),\n",
    "    'font.size': 16,\n",
    "    'xtick.labelsize': 16,\n",
    "    'ytick.labelsize': 16,\n",
    "    'xtick.alignment': 'right'\n",
    "}\n",
    "THRESHOLDS = [0.1, 0.3, 0.5, 0.7, 0.9]\n",
    "ITERATIONS = list(range(8))[1:]\n",
    "RANDOM_SEEDS = ['123', '456', '789']"
   ]
  },
  {
   "cell_type": "markdown",
   "id": "3240fcea",
   "metadata": {},
   "source": [
    "## DATA"
   ]
  },
  {
   "cell_type": "code",
   "execution_count": 69,
   "id": "0d413167",
   "metadata": {},
   "outputs": [],
   "source": [
    "FILES_INSAMPLE = [\n",
    "    [\n",
    "        os.path.join(RESULTDIR, 'passive', t, f) for f in os.listdir(os.path.join(RESULTDIR, 'passive', t)) \n",
    "        if re.search(r'(insample_test_)+(\\d+)' + re.escape(SUFFIX_PKL), f)\n",
    "    ] \n",
    "    for t in [str(int(100 * ts)) for ts in THRESHOLDS]\n",
    "]\n",
    "FILES_OOSAMPLE = [\n",
    "    os.path.join(RESULTDIR, 'passive', str(int(100 * OUR_THRESH)), f) \n",
    "    for f in os.listdir(os.path.join(RESULTDIR, 'passive', str(int(100 * OUR_THRESH)))) \n",
    "    if re.search(r'(oosample_)+(\\d+)' + re.escape(SUFFIX_PKL), f)\n",
    "]\n",
    "FILES_ACTIVE_OPTIMAL = [\n",
    "    os.path.join(RESULTDIR, 'active', 'optimal', f) \n",
    "    for f in os.listdir(os.path.join(RESULTDIR, 'active', 'optimal'))\n",
    "    if re.search(r'(active_optimal_)+(\\d+)' + re.escape(SUFFIX_PKL), f)\n",
    "]\n",
    "FILES_ACTIVE_COLDSTART = [\n",
    "    os.path.join(RESULTDIR, 'active', 'coldstart', 'entropy', rs) for rs in RANDOM_SEEDS\n",
    "]\n",
    "FILES_ACTIVE_WARMSTART = [\n",
    "    os.path.join(RESULTDIR, 'active', 'warmstart', 'entropy', rs) for rs in RANDOM_SEEDS\n",
    "]"
   ]
  },
  {
   "cell_type": "code",
   "execution_count": 6,
   "id": "a2e30e2f",
   "metadata": {},
   "outputs": [],
   "source": [
    "# RESULT_FILE = {**RESULTS_INSAMPLE_TEST_01, **RESULTS_INSAMPLE_TEST_05}\n",
    "PREDS = 'preds_imgs_ppl'\n",
    "TRUTH = 'truth_imgs_ppl'"
   ]
  },
  {
   "cell_type": "code",
   "execution_count": 7,
   "id": "c1e1e644",
   "metadata": {},
   "outputs": [],
   "source": [
    "def sort_results(dict_preds, truth):\n",
    "    ordered_dict = {k: dict_preds[k] for k in sorted(list(dict_preds.keys()))}\n",
    "    ordered_array = np.concatenate([x.reshape(1, len(LABEL_MAP)) for x in list(ordered_dict.values())])\n",
    "    ordered_list = [truth[k] for k in [list(dict_preds.keys()).index(i) for i in sorted(list(dict_preds.keys()))]]\n",
    "    return ordered_array, ordered_list"
   ]
  },
  {
   "cell_type": "markdown",
   "id": "9b2ae8cf",
   "metadata": {},
   "source": [
    "# IN-SAMPLE"
   ]
  },
  {
   "cell_type": "markdown",
   "id": "b09249b7",
   "metadata": {},
   "source": [
    "## PERFORMANCE ACROSS THRESHOLDS ON TEST\n",
    "\n",
    "Using varying thresholds for the MD, how well is our pipeline able to 1) classify images overall, 2) detect empty images correctly?"
   ]
  },
  {
   "cell_type": "code",
   "execution_count": 8,
   "id": "711509be",
   "metadata": {},
   "outputs": [],
   "source": [
    "rows_multiclass_avg, rows_multiclass_se = [], []\n",
    "rows_empty_avg, rows_empty_se = [], []\n",
    "\n",
    "for idx, t in enumerate(THRESHOLDS):\n",
    "    \n",
    "    results_t = [f for f in FILES_INSAMPLE[idx]]\n",
    "    accs, precs, recs, fones = [], [], [], []\n",
    "    accs_empty, precs_empty, recs_empty, fones_empty = [], [], [], []\n",
    "    precs_nonempty, recs_nonempty, fones_nonempty = [], [], []\n",
    "    \n",
    "    for rt in results_t:\n",
    "        \n",
    "        r = load_pickle(rt)\n",
    "        preds_imgs_ppl_t, truth_imgs_ppl_t = sort_results(r[PREDS], r[TRUTH])\n",
    "        y_true = truth_imgs_ppl_t\n",
    "        y_pred = [np.argmax(v) for v in preds_imgs_ppl_t]\n",
    "        report = classification_report(\n",
    "            y_true=y_true, \n",
    "            y_pred=y_pred,\n",
    "            target_names=[k for k, v in LABEL_MAP.items() if v in set(y_true) | set(y_pred)],\n",
    "            zero_division=0,\n",
    "            output_dict=True,\n",
    "        )\n",
    "        \n",
    "        accs.append(report['accuracy'])\n",
    "        precs.append(report['weighted avg']['precision'])\n",
    "        recs.append(report['weighted avg']['recall'])\n",
    "        fones.append(report['weighted avg']['f1-score'])\n",
    "        \n",
    "        conf_empty = multilabel_confusion_matrix(y_true, y_pred, labels=[EMPTY_CLASS])\n",
    "        tn, fp, fn, tp = conf_empty.ravel()\n",
    "        accs_empty.append((tn + tp) / (tn + fp + fn + tp))\n",
    "        precs_empty.append(report['empty']['precision'])\n",
    "        recs_empty.append(report['empty']['recall'])\n",
    "        fones_empty.append(report['empty']['f1-score'])\n",
    "        precs_nonempty.append(tn / (tn + fn))\n",
    "        recs_nonempty.append(tn / (tn + fp))\n",
    "        fones_nonempty.append(2 * tn / (2 * tn + fn + fp))\n",
    "        \n",
    "    accs = np.array(accs)\n",
    "    precs = np.array(precs)\n",
    "    recs = np.array(recs)\n",
    "    fones = np.array(fones)\n",
    "    rows_multiclass_avg_t = [t]\n",
    "    rows_multiclass_avg_t.extend(\n",
    "        [np.round(x, 3) for x in [np.mean(accs), np.mean(precs), np.mean(recs), np.mean(fones)]]\n",
    "    )\n",
    "    rows_multiclass_avg.append(rows_multiclass_avg_t)\n",
    "    rows_multiclass_se_t = [t]\n",
    "    rows_multiclass_se_t.extend(\n",
    "        [\n",
    "            np.round(x, 3) for x in [\n",
    "                np.std(accs) / math.sqrt(len(accs)),\n",
    "                np.std(precs) / math.sqrt(len(precs)),\n",
    "                np.std(recs) / math.sqrt(len(recs)),\n",
    "                np.std(fones) / math.sqrt(len(fones))\n",
    "            ]\n",
    "            \n",
    "        ]\n",
    "        \n",
    "    )\n",
    "    rows_multiclass_se.append(rows_multiclass_se_t)\n",
    "    accs_empty = np.array(accs_empty)\n",
    "    precs_empty = np.array(precs_empty)\n",
    "    recs_empty = np.array(recs_empty)\n",
    "    fones_empty = np.array(fones_empty)\n",
    "    precs_nonempty = np.array(precs_nonempty)\n",
    "    recs_nonempty = np.array(recs_nonempty)\n",
    "    fones_nonempty = np.array(fones_nonempty)\n",
    "    rows_empty_avg_t = [t]\n",
    "    rows_empty_avg_t.extend(\n",
    "        [\n",
    "            np.round(x, 3) for x in [\n",
    "                np.mean(accs_empty), \n",
    "                np.mean(precs_empty), \n",
    "                np.mean(recs_empty), \n",
    "                np.mean(fones_empty),\n",
    "                np.mean(precs_nonempty), \n",
    "                np.mean(recs_nonempty), \n",
    "                np.mean(fones_nonempty)                \n",
    "            ]\n",
    "        ]\n",
    "    )\n",
    "    rows_empty_avg.append(rows_empty_avg_t)\n",
    "    rows_empty_se_t = [t]\n",
    "    rows_empty_se_t.extend(\n",
    "        [\n",
    "            np.round(x, 3) for x in [\n",
    "                np.std(accs_empty) / math.sqrt(len(accs_empty)),\n",
    "                np.std(precs_empty) / math.sqrt(len(precs_empty)),\n",
    "                np.std(recs_empty) / math.sqrt(len(recs_empty)),\n",
    "                np.std(fones_empty) / math.sqrt(len(fones_empty)),\n",
    "                np.std(precs_empty) / math.sqrt(len(precs_nonempty)),\n",
    "                np.std(recs_empty) / math.sqrt(len(recs_nonempty)),\n",
    "                np.std(fones_empty) / math.sqrt(len(fones_nonempty))\n",
    "            ]\n",
    "            \n",
    "        ]\n",
    "        \n",
    "    )\n",
    "    rows_empty_se.append(rows_empty_se_t)\n",
    "COLNAMES = ['threshold', 'acc', 'prec', 'rec', 'fone']\n",
    "COLNAMES_EMPTY = ['threshold', 'acc', 'prec', 'rec', 'fone', 'prec_ne', 'rec_ne', 'fone_ne']\n",
    "df_ins_multiclass_avg = pd.DataFrame(rows_multiclass_avg, columns=COLNAMES)\n",
    "df_ins_multiclass_se = pd.DataFrame(rows_multiclass_se, columns=COLNAMES)\n",
    "df_ins_empty_avg = pd.DataFrame(rows_empty_avg, columns=COLNAMES_EMPTY)\n",
    "df_ins_empty_se = pd.DataFrame(rows_empty_se, columns=COLNAMES_EMPTY)"
   ]
  },
  {
   "cell_type": "code",
   "execution_count": 9,
   "id": "4a947599",
   "metadata": {
    "scrolled": false
   },
   "outputs": [
    {
     "data": {
      "text/html": [
       "<div>\n",
       "<style scoped>\n",
       "    .dataframe tbody tr th:only-of-type {\n",
       "        vertical-align: middle;\n",
       "    }\n",
       "\n",
       "    .dataframe tbody tr th {\n",
       "        vertical-align: top;\n",
       "    }\n",
       "\n",
       "    .dataframe thead th {\n",
       "        text-align: right;\n",
       "    }\n",
       "</style>\n",
       "<table border=\"1\" class=\"dataframe\">\n",
       "  <thead>\n",
       "    <tr style=\"text-align: right;\">\n",
       "      <th></th>\n",
       "      <th>threshold</th>\n",
       "      <th>acc</th>\n",
       "      <th>prec</th>\n",
       "      <th>rec</th>\n",
       "      <th>fone</th>\n",
       "    </tr>\n",
       "  </thead>\n",
       "  <tbody>\n",
       "    <tr>\n",
       "      <th>0</th>\n",
       "      <td>0.1</td>\n",
       "      <td>0.979</td>\n",
       "      <td>0.979</td>\n",
       "      <td>0.979</td>\n",
       "      <td>0.979</td>\n",
       "    </tr>\n",
       "    <tr>\n",
       "      <th>1</th>\n",
       "      <td>0.3</td>\n",
       "      <td>0.978</td>\n",
       "      <td>0.978</td>\n",
       "      <td>0.978</td>\n",
       "      <td>0.977</td>\n",
       "    </tr>\n",
       "    <tr>\n",
       "      <th>2</th>\n",
       "      <td>0.5</td>\n",
       "      <td>0.973</td>\n",
       "      <td>0.973</td>\n",
       "      <td>0.973</td>\n",
       "      <td>0.972</td>\n",
       "    </tr>\n",
       "    <tr>\n",
       "      <th>3</th>\n",
       "      <td>0.7</td>\n",
       "      <td>0.935</td>\n",
       "      <td>0.940</td>\n",
       "      <td>0.935</td>\n",
       "      <td>0.927</td>\n",
       "    </tr>\n",
       "    <tr>\n",
       "      <th>4</th>\n",
       "      <td>0.9</td>\n",
       "      <td>0.861</td>\n",
       "      <td>0.883</td>\n",
       "      <td>0.861</td>\n",
       "      <td>0.828</td>\n",
       "    </tr>\n",
       "  </tbody>\n",
       "</table>\n",
       "</div>"
      ],
      "text/plain": [
       "   threshold    acc   prec    rec   fone\n",
       "0        0.1  0.979  0.979  0.979  0.979\n",
       "1        0.3  0.978  0.978  0.978  0.977\n",
       "2        0.5  0.973  0.973  0.973  0.972\n",
       "3        0.7  0.935  0.940  0.935  0.927\n",
       "4        0.9  0.861  0.883  0.861  0.828"
      ]
     },
     "execution_count": 9,
     "metadata": {},
     "output_type": "execute_result"
    }
   ],
   "source": [
    "df_ins_multiclass_avg  # Table 3"
   ]
  },
  {
   "cell_type": "code",
   "execution_count": 10,
   "id": "7f1eecb4",
   "metadata": {
    "scrolled": true
   },
   "outputs": [
    {
     "data": {
      "text/html": [
       "<div>\n",
       "<style scoped>\n",
       "    .dataframe tbody tr th:only-of-type {\n",
       "        vertical-align: middle;\n",
       "    }\n",
       "\n",
       "    .dataframe tbody tr th {\n",
       "        vertical-align: top;\n",
       "    }\n",
       "\n",
       "    .dataframe thead th {\n",
       "        text-align: right;\n",
       "    }\n",
       "</style>\n",
       "<table border=\"1\" class=\"dataframe\">\n",
       "  <thead>\n",
       "    <tr style=\"text-align: right;\">\n",
       "      <th></th>\n",
       "      <th>threshold</th>\n",
       "      <th>acc</th>\n",
       "      <th>prec</th>\n",
       "      <th>rec</th>\n",
       "      <th>fone</th>\n",
       "      <th>prec_ne</th>\n",
       "      <th>rec_ne</th>\n",
       "      <th>fone_ne</th>\n",
       "    </tr>\n",
       "  </thead>\n",
       "  <tbody>\n",
       "    <tr>\n",
       "      <th>0</th>\n",
       "      <td>0.1</td>\n",
       "      <td>0.982</td>\n",
       "      <td>0.980</td>\n",
       "      <td>0.995</td>\n",
       "      <td>0.988</td>\n",
       "      <td>0.987</td>\n",
       "      <td>0.949</td>\n",
       "      <td>0.968</td>\n",
       "    </tr>\n",
       "    <tr>\n",
       "      <th>1</th>\n",
       "      <td>0.3</td>\n",
       "      <td>0.981</td>\n",
       "      <td>0.978</td>\n",
       "      <td>0.995</td>\n",
       "      <td>0.987</td>\n",
       "      <td>0.988</td>\n",
       "      <td>0.943</td>\n",
       "      <td>0.965</td>\n",
       "    </tr>\n",
       "    <tr>\n",
       "      <th>2</th>\n",
       "      <td>0.5</td>\n",
       "      <td>0.974</td>\n",
       "      <td>0.966</td>\n",
       "      <td>0.999</td>\n",
       "      <td>0.982</td>\n",
       "      <td>0.997</td>\n",
       "      <td>0.911</td>\n",
       "      <td>0.952</td>\n",
       "    </tr>\n",
       "    <tr>\n",
       "      <th>3</th>\n",
       "      <td>0.7</td>\n",
       "      <td>0.937</td>\n",
       "      <td>0.919</td>\n",
       "      <td>1.000</td>\n",
       "      <td>0.958</td>\n",
       "      <td>1.000</td>\n",
       "      <td>0.778</td>\n",
       "      <td>0.875</td>\n",
       "    </tr>\n",
       "    <tr>\n",
       "      <th>4</th>\n",
       "      <td>0.9</td>\n",
       "      <td>0.862</td>\n",
       "      <td>0.839</td>\n",
       "      <td>1.000</td>\n",
       "      <td>0.912</td>\n",
       "      <td>1.000</td>\n",
       "      <td>0.514</td>\n",
       "      <td>0.679</td>\n",
       "    </tr>\n",
       "  </tbody>\n",
       "</table>\n",
       "</div>"
      ],
      "text/plain": [
       "   threshold    acc   prec    rec   fone  prec_ne  rec_ne  fone_ne\n",
       "0        0.1  0.982  0.980  0.995  0.988    0.987   0.949    0.968\n",
       "1        0.3  0.981  0.978  0.995  0.987    0.988   0.943    0.965\n",
       "2        0.5  0.974  0.966  0.999  0.982    0.997   0.911    0.952\n",
       "3        0.7  0.937  0.919  1.000  0.958    1.000   0.778    0.875\n",
       "4        0.9  0.862  0.839  1.000  0.912    1.000   0.514    0.679"
      ]
     },
     "execution_count": 10,
     "metadata": {},
     "output_type": "execute_result"
    }
   ],
   "source": [
    "df_ins_empty_avg  # Table 2"
   ]
  },
  {
   "cell_type": "code",
   "execution_count": 11,
   "id": "38e904de",
   "metadata": {},
   "outputs": [],
   "source": [
    "df_ins_multiclass_avg.to_csv(os.path.join(RESULTDIR, 'passive', 'insample.csv'))\n",
    "df_ins_empty_avg.to_csv(os.path.join(RESULTDIR, 'passive', 'insample_empty.csv'))"
   ]
  },
  {
   "cell_type": "markdown",
   "id": "f684d7c5",
   "metadata": {},
   "source": [
    "## PERFORMANCE"
   ]
  },
  {
   "cell_type": "code",
   "execution_count": 12,
   "id": "efc877ff",
   "metadata": {},
   "outputs": [
    {
     "name": "stdout",
     "output_type": "stream",
     "text": [
      "              precision    recall  f1-score   support\n",
      "\n",
      "       empty       0.98      1.00      0.99      6528\n",
      "         fox       0.99      0.97      0.98      1857\n",
      "       skunk       1.00      0.67      0.80         9\n",
      "      rodent       0.95      0.85      0.90       633\n",
      "        bird       0.92      0.75      0.83        81\n",
      "\n",
      "    accuracy                           0.98      9108\n",
      "   macro avg       0.97      0.85      0.90      9108\n",
      "weighted avg       0.98      0.98      0.98      9108\n",
      "\n"
     ]
    }
   ],
   "source": [
    "reports, conf_matrices = [], []\n",
    "y_trues, y_preds = np.empty(0), np.empty(0)\n",
    "for r in [load_pickle(f) for f in FILES_INSAMPLE[1]]:\n",
    "    preds_imgs_ppl_t, truth_imgs_ppl_t = sort_results(r['preds_imgs_ppl'], r['truth_imgs_ppl'])\n",
    "    y_trues = np.concatenate((y_trues, truth_imgs_ppl_t))\n",
    "    y_preds = np.concatenate((y_preds, [np.argmax(v) for v in preds_imgs_ppl_t]))\n",
    "print(  # Figure 3\n",
    "    classification_report(\n",
    "        y_true=np.array(y_trues), \n",
    "        y_pred=np.array(y_preds),\n",
    "        target_names=[k for k, v in LABEL_MAP.items() if v in set(y_trues) | set(y_preds)],\n",
    "    )\n",
    ")"
   ]
  },
  {
   "cell_type": "code",
   "execution_count": 13,
   "id": "f0850e3a",
   "metadata": {},
   "outputs": [
    {
     "data": {
      "image/png": "[encoded data removed]",
      "text/plain": [
       "<Figure size 432x288 with 1 Axes>"
      ]
     },
     "metadata": {
      "needs_background": "light"
     },
     "output_type": "display_data"
    }
   ],
   "source": [
    "ConfusionMatrixDisplay.from_predictions(\n",
    "    y_true=np.array(y_trues), \n",
    "    y_pred=np.array(y_preds), \n",
    "    display_labels = [k.replace('_', ' ') for k, v in LABEL_MAP.items() if v in set(y_true) | set(y_pred)], \n",
    "    **CONFMAT_ARGS\n",
    ")\n",
    "plt.rcParams.update(CONFMAT_PLT_ARGS)\n",
    "plt.savefig(os.path.join(FIGDIR, 'cm_insample.eps'), bbox_inches='tight')\n",
    "plt.savefig(os.path.join(FIGDIR, 'cm_insample.png'), bbox_inches='tight')"
   ]
  },
  {
   "cell_type": "markdown",
   "id": "3e11fe27",
   "metadata": {},
   "source": [
    "# OUT-OF-SAMPLE"
   ]
  },
  {
   "cell_type": "markdown",
   "id": "ea2c9861",
   "metadata": {},
   "source": [
    "## PERFORMANCE"
   ]
  },
  {
   "cell_type": "code",
   "execution_count": 14,
   "id": "33f20f82",
   "metadata": {},
   "outputs": [],
   "source": [
    "rows_multiclass_avg, rows_multiclass_se = [], []\n",
    "accs, precs, recs, fones = [], [], [], []\n",
    "\n",
    "for r in [f for f in FILES_OOSAMPLE]:\n",
    "    r = load_pickle(r)\n",
    "    preds_imgs_ppl, truth_imgs_ppl = sort_results(r[PREDS], r[TRUTH])\n",
    "    y_true = truth_imgs_ppl\n",
    "    y_pred = [np.argmax(v) for v in preds_imgs_ppl]\n",
    "    report = classification_report(\n",
    "        y_true=y_true, \n",
    "        y_pred=y_pred,\n",
    "        target_names=[k.replace('_', ' ') for k, v in LABEL_MAP.items() if v in set(y_true) | set(y_pred)], \n",
    "        zero_division=0,\n",
    "        output_dict=True,\n",
    "    )\n",
    "    accs.append(report['accuracy'])\n",
    "    precs.append(report['weighted avg']['precision'])\n",
    "    recs.append(report['weighted avg']['recall'])\n",
    "    fones.append(report['weighted avg']['f1-score'])\n",
    "accs = np.array(accs)\n",
    "precs = np.array(precs)\n",
    "recs = np.array(recs)\n",
    "fones = np.array(fones)\n",
    "rows_multiclass_avg.append([np.round(x, 3) for x in [np.mean(accs), np.mean(precs), np.mean(recs), np.mean(fones)]])\n",
    "rows_multiclass_se.append(\n",
    "    [\n",
    "        np.round(x, 3) for x in [\n",
    "            np.std(accs) / math.sqrt(len(accs)),\n",
    "            np.std(precs) / math.sqrt(len(precs)),\n",
    "            np.std(recs) / math.sqrt(len(recs)),\n",
    "            np.std(fones) / math.sqrt(len(fones))\n",
    "        ]\n",
    "        \n",
    "    ]\n",
    "\n",
    ")\n",
    "COLNAMES = ['acc', 'prec', 'rec', 'fone']\n",
    "df_oos_multiclass_avg = pd.DataFrame(rows_multiclass_avg, columns=COLNAMES)\n",
    "df_oos_multiclass_se = pd.DataFrame(rows_multiclass_se, columns=COLNAMES)"
   ]
  },
  {
   "cell_type": "code",
   "execution_count": 15,
   "id": "207ca969",
   "metadata": {
    "scrolled": true
   },
   "outputs": [],
   "source": [
    "acc_al_lower_limit, rec_al_lower_limit = rows_multiclass_avg[0][0], rows_multiclass_avg[0][1]"
   ]
  },
  {
   "cell_type": "code",
   "execution_count": 16,
   "id": "0305fe6a",
   "metadata": {},
   "outputs": [],
   "source": [
    "df_multiclass_avg = pd.concat(\n",
    "    [df_ins_multiclass_avg.loc[df_ins_multiclass_avg['threshold'] == OUR_THRESH], df_oos_multiclass_avg]\n",
    ")\n",
    "df_multiclass_avg.index = ['ins', 'oos']"
   ]
  },
  {
   "cell_type": "code",
   "execution_count": 17,
   "id": "b42fca78",
   "metadata": {},
   "outputs": [],
   "source": [
    "df_multiclass_se = pd.concat(\n",
    "    [df_ins_multiclass_se.loc[df_ins_multiclass_se['threshold'] == OUR_THRESH], df_oos_multiclass_se]\n",
    ")\n",
    "df_multiclass_se.index = ['ins', 'oos']"
   ]
  },
  {
   "cell_type": "code",
   "execution_count": 18,
   "id": "d9c87d13",
   "metadata": {},
   "outputs": [],
   "source": [
    "df_multiclass_avg.drop(['threshold'], axis=1).to_csv(os.path.join(RESULTDIR, 'passive', 'oosample.csv'))"
   ]
  },
  {
   "cell_type": "code",
   "execution_count": 19,
   "id": "0def33e8",
   "metadata": {},
   "outputs": [],
   "source": [
    "reports, conf_matrices = [], []\n",
    "y_trues, y_preds = np.empty(0), np.empty(0)\n",
    "for r in [load_pickle(f) for f in FILES_OOSAMPLE]:\n",
    "    preds_imgs_ppl_t, truth_imgs_ppl_t = sort_results(r['preds_imgs_ppl'], r['truth_imgs_ppl'])\n",
    "    y_trues = np.concatenate((y_trues, truth_imgs_ppl_t))\n",
    "    y_preds = np.concatenate((y_preds, [np.argmax(v) for v in preds_imgs_ppl_t]))"
   ]
  },
  {
   "cell_type": "code",
   "execution_count": 20,
   "id": "cb0bb0e1",
   "metadata": {},
   "outputs": [
    {
     "name": "stdout",
     "output_type": "stream",
     "text": [
      "              precision    recall  f1-score   support\n",
      "\n",
      "       empty       0.98      1.00      0.99      2545\n",
      "         fox       0.97      0.99      0.98      1884\n",
      "       skunk       0.83      0.71      0.77        14\n",
      "      rodent       0.95      0.76      0.84        74\n",
      "        bird       0.91      0.40      0.55        78\n",
      "\n",
      "    accuracy                           0.98      4595\n",
      "   macro avg       0.93      0.77      0.83      4595\n",
      "weighted avg       0.98      0.98      0.98      4595\n",
      "\n"
     ]
    }
   ],
   "source": [
    "print(\n",
    "    classification_report(\n",
    "        y_true=y_true, \n",
    "        y_pred=y_pred,\n",
    "        target_names=[k for k, v in LABEL_MAP.items() if v in set(y_true)],\n",
    "        zero_division=0,\n",
    "        output_dict=False,\n",
    "    )\n",
    ")"
   ]
  },
  {
   "cell_type": "code",
   "execution_count": 21,
   "id": "b0dfab75",
   "metadata": {},
   "outputs": [
    {
     "data": {
      "image/png": "[encoded data removed]",
      "text/plain": [
       "<Figure size 432x432 with 1 Axes>"
      ]
     },
     "metadata": {
      "needs_background": "light"
     },
     "output_type": "display_data"
    }
   ],
   "source": [
    "ConfusionMatrixDisplay.from_predictions(\n",
    "    y_true=np.array(y_trues), \n",
    "    y_pred=np.array(y_preds), \n",
    "    display_labels=[k.replace('_', ' ') for k, v in LABEL_MAP.items() if v in set(y_true) | set(y_pred)], \n",
    "    **CONFMAT_ARGS\n",
    ")\n",
    "plt.rcParams.update(CONFMAT_PLT_ARGS)\n",
    "plt.savefig(os.path.join(FIGDIR, 'cm_oosample.eps'), bbox_inches='tight')\n",
    "plt.savefig(os.path.join(FIGDIR, 'cm_oosample.png'), bbox_inches='tight')"
   ]
  },
  {
   "cell_type": "markdown",
   "id": "e0df1f9e",
   "metadata": {},
   "source": [
    "## ACTIVE LEARNING"
   ]
  },
  {
   "cell_type": "code",
   "execution_count": 43,
   "id": "31cf2362",
   "metadata": {},
   "outputs": [],
   "source": [
    "reports, conf_matrices = [], []\n",
    "y_trues, y_preds = np.empty(0), np.empty(0)\n",
    "for r in [load_pickle(f) for f in FILES_ACTIVE_OPTIMAL]:\n",
    "    preds_imgs_ppl_t, truth_imgs_ppl_t = sort_results(r['preds_imgs_ppl'], r['truth_imgs_ppl'])\n",
    "    y_trues = np.concatenate((y_trues, truth_imgs_ppl_t))\n",
    "    y_preds = np.concatenate((y_preds, [np.argmax(v) for v in preds_imgs_ppl_t]))\n",
    "report_dict = classification_report(\n",
    "    y_true=np.array(y_trues), \n",
    "    y_pred=np.array(y_preds),\n",
    "    target_names=[k.replace('_', ' ') for k, v in LABEL_MAP.items() if v in set(y_true) | set(y_pred)], \n",
    "    output_dict=True,\n",
    "    zero_division=0\n",
    ")\n",
    "acc_al_upper_limit, rec_al_upper_limit = report_dict['accuracy'], report_dict['weighted avg']['precision']"
   ]
  },
  {
   "cell_type": "code",
   "execution_count": 44,
   "id": "05595824",
   "metadata": {},
   "outputs": [
    {
     "name": "stdout",
     "output_type": "stream",
     "text": [
      "{'empty': {'precision': 0.9877651958870233, 'recall': 0.9939751146037983, 'f1-score': 0.9908604256430342, 'support': 7635}, 'fox': {'precision': 0.9895685997171145, 'recall': 0.9902689313517339, 'f1-score': 0.9899186416696145, 'support': 5652}, 'skunk': {'precision': 0.9117647058823529, 'recall': 0.7380952380952381, 'f1-score': 0.8157894736842106, 'support': 42}, 'rodent': {'precision': 0.9488636363636364, 'recall': 0.7522522522522522, 'f1-score': 0.8391959798994976, 'support': 222}, 'bird': {'precision': 0.9110169491525424, 'recall': 0.9188034188034188, 'f1-score': 0.9148936170212766, 'support': 234}, 'accuracy': 0.9865070729053319, 'macro avg': {'precision': 0.9497958174005339, 'recall': 0.8786789910212883, 'f1-score': 0.9101316275835268, 'support': 13785}, 'weighted avg': {'precision': 0.9863437654856755, 'recall': 0.9865070729053319, 'f1-score': 0.9862088708245653, 'support': 13785}}\n"
     ]
    }
   ],
   "source": [
    "print(  # Figure 5\n",
    "    classification_report(\n",
    "        y_true=np.array(y_trues), \n",
    "        y_pred=np.array(y_preds),\n",
    "        target_names=[k for k, v in LABEL_MAP.items() if v in set(y_true) | set(y_pred)],\n",
    "        zero_division=0,\n",
    "        output_dict=True,\n",
    "    )\n",
    "\n",
    ") "
   ]
  },
  {
   "cell_type": "code",
   "execution_count": 45,
   "id": "2cf73286",
   "metadata": {},
   "outputs": [],
   "source": [
    "# compute relative sample size per iteration (sizes hard-coded for training)\n",
    "n_obs = len(y_trues)\n",
    "init_batches = [2**x for x in range(7, 13)] # !!\n",
    "batch_sizes = init_batches + [n_obs - sum(init_batches)]\n",
    "batch_sizes_cs = np.cumsum([x / n_obs for x in batch_sizes])"
   ]
  },
  {
   "cell_type": "code",
   "execution_count": 56,
   "id": "fe9b42b0",
   "metadata": {},
   "outputs": [],
   "source": [
    "ITERATION_EXTRACT = 5"
   ]
  },
  {
   "cell_type": "code",
   "execution_count": 58,
   "id": "a81f6ad8",
   "metadata": {},
   "outputs": [
    {
     "name": "stdout",
     "output_type": "stream",
     "text": [
      "{'empty': {'precision': 0.9851752021563343, 'recall': 0.9933414866150292, 'f1-score': 0.9892414913052304, 'support': 7359}, 'fox': {'precision': 0.9857260049220673, 'recall': 0.9917464509739188, 'f1-score': 0.9887270632765573, 'support': 6058}, 'skunk': {'precision': 0.8275862068965517, 'recall': 0.6486486486486487, 'f1-score': 0.7272727272727273, 'support': 37}, 'rodent': {'precision': 0.9550561797752809, 'recall': 0.8018867924528302, 'f1-score': 0.8717948717948718, 'support': 424}, 'bird': {'precision': 0.9074074074074074, 'recall': 0.7989130434782609, 'f1-score': 0.8497109826589596, 'support': 184}, 'accuracy': 0.9834305219741146, 'macro avg': {'precision': 0.9321902002315283, 'recall': 0.8469072844337375, 'f1-score': 0.8853494272616693, 'support': 14062}, 'weighted avg': {'precision': 0.9830721037782109, 'recall': 0.9834305219741146, 'f1-score': 0.9829635628789603, 'support': 14062}}\n"
     ]
    },
    {
     "data": {
      "image/png": "[encoded data removed]",
      "text/plain": [
       "<Figure size 432x432 with 1 Axes>"
      ]
     },
     "metadata": {
      "needs_background": "light"
     },
     "output_type": "display_data"
    }
   ],
   "source": [
    "acc_coldstart_avg, rec_coldstart_avg = [], []\n",
    "acc_coldstart_se, rec_coldstart_se = [], []\n",
    "acc_warmstart_avg, rec_warmstart_avg = [], []\n",
    "acc_warmstart_se, rec_warmstart_se = [], []\n",
    "fone_coldstart_avg = []\n",
    "\n",
    "for i in ITERATIONS: # !!\n",
    "    acc_coldstart, rec_coldstart = [], []\n",
    "    acc_warmstart, rec_warmstart = [], []\n",
    "    fone_coldstart = []\n",
    "    y_trues, y_preds = np.empty(0), np.empty(0)\n",
    "    for r in [\n",
    "        load_pickle(f) for f in [\n",
    "            os.path.join(FILES_ACTIVE_COLDSTART[idx], f'results_iteration_{i}.pkl') \n",
    "            for idx, _ in enumerate(RANDOM_SEEDS)\n",
    "        ]\n",
    "    ]:\n",
    "        preds_imgs_ppl, truth_imgs_ppl = sort_results(r['preds_imgs_ppl'], r['truth_imgs_ppl'])\n",
    "        y_true = truth_imgs_ppl\n",
    "        y_pred = [np.argmax(v) for v in preds_imgs_ppl]\n",
    "        report_dict_cs = classification_report(\n",
    "            y_true=y_true, \n",
    "            y_pred=y_pred,\n",
    "            target_names=[k for k, v in LABEL_MAP.items() if v in set(y_true)],\n",
    "            output_dict=True,\n",
    "            zero_division=0\n",
    "        )\n",
    "        acc_coldstart.append(report_dict_cs['accuracy'])\n",
    "        rec_coldstart.append(report_dict_cs['weighted avg']['precision'])\n",
    "        fone_coldstart.append(report_dict_cs['macro avg']['f1-score'])\n",
    "        if i == ITERATION_EXTRACT:\n",
    "            y_trues = np.concatenate((y_trues, y_true))\n",
    "            y_preds = np.concatenate((y_preds, y_pred))\n",
    "    if i == ITERATION_EXTRACT:\n",
    "        ConfusionMatrixDisplay.from_predictions(\n",
    "            y_true=np.array(y_trues), \n",
    "            y_pred=np.array(y_preds), \n",
    "            display_labels = [k.replace('_', ' ') for k, v in LABEL_MAP.items() if v in set(y_true)| set(y_pred)], \n",
    "            **CONFMAT_ARGS\n",
    "        )\n",
    "        plt.rcParams.update(CONFMAT_PLT_ARGS)\n",
    "        plt.savefig(os.path.join(FIGDIR, 'cm_active.eps'), bbox_inches='tight')\n",
    "        plt.savefig(os.path.join(FIGDIR, 'cm_active.png'), bbox_inches='tight')\n",
    "        print(\n",
    "            classification_report(\n",
    "                y_true=y_trues, \n",
    "                y_pred=y_preds,\n",
    "                target_names=[k for k, v in LABEL_MAP.items() if v in set(y_true)],\n",
    "                output_dict=True,\n",
    "                zero_division=0\n",
    "            )\n",
    "        )\n",
    "        df = pd.DataFrame(\n",
    "            [[report['accuracy'], report['weighted avg']['precision'], report['weighted avg']['f1-score']]], \n",
    "            columns=['acc', 'prec', 'fone']\n",
    "        )\n",
    "        df.to_csv(os.path.join(RESULTDIR, 'active', f'iteration_{ITERATION_EXTRACT}.csv'))\n",
    "    for r in [\n",
    "        load_pickle(f) for f in [\n",
    "            os.path.join(FILES_ACTIVE_WARMSTART[idx], f'results_iteration_{i}.pkl') \n",
    "            for idx, _ in enumerate(RANDOM_SEEDS)\n",
    "        ]\n",
    "    ]:\n",
    "        preds_imgs_ppl, truth_imgs_ppl = sort_results(r['preds_imgs_ppl'], r['truth_imgs_ppl'])\n",
    "        y_true = truth_imgs_ppl\n",
    "        y_pred = [np.argmax(v) for v in preds_imgs_ppl]\n",
    "        report_dict_ws = classification_report(\n",
    "            y_true=y_true, \n",
    "            y_pred=y_pred,\n",
    "            target_names=[k for k, v in LABEL_MAP.items() if v in set(y_true)],\n",
    "            output_dict=True,\n",
    "            zero_division=0\n",
    "        )\n",
    "        acc_warmstart.append(report_dict_ws['accuracy'])\n",
    "        rec_warmstart.append(report_dict_ws['weighted avg']['precision'])\n",
    "    acc_coldstart = np.array(acc_coldstart)\n",
    "    rec_coldstart = np.array(rec_coldstart)\n",
    "    fone_coldstart = np.array(fone_coldstart)\n",
    "    acc_coldstart_avg.append(np.mean(acc_coldstart))\n",
    "    rec_coldstart_avg.append(np.mean(rec_coldstart))\n",
    "    fone_coldstart_avg.append(np.mean(fone_coldstart))\n",
    "    acc_coldstart_se.append(np.std(acc_coldstart) / math.sqrt(len(acc_coldstart)))\n",
    "    rec_coldstart_se.append(np.std(rec_coldstart) / math.sqrt(len(rec_coldstart)))\n",
    "    acc_warmstart = np.array(acc_warmstart)\n",
    "    rec_warmstart = np.array(rec_warmstart)\n",
    "    acc_warmstart_avg.append(np.mean(acc_warmstart))\n",
    "    rec_warmstart_avg.append(np.mean(rec_warmstart))\n",
    "    acc_warmstart_se.append(np.std(acc_warmstart) / math.sqrt(len(acc_warmstart)))\n",
    "    rec_warmstart_se.append(np.std(rec_warmstart) / math.sqrt(len(rec_warmstart)))        "
   ]
  },
  {
   "cell_type": "code",
   "execution_count": 60,
   "id": "41193af6",
   "metadata": {},
   "outputs": [],
   "source": [
    "acc_coldstart_avg[-1] = acc_al_upper_limit\n",
    "acc_warmstart_avg[-1] = acc_al_upper_limit\n",
    "acc_coldstart_se[-1] = 0\n",
    "acc_warmstart_se[-1] = 0"
   ]
  },
  {
   "cell_type": "code",
   "execution_count": 61,
   "id": "05f7396f",
   "metadata": {},
   "outputs": [
    {
     "data": {
      "text/plain": [
       "[0.9718646162954069,\n",
       " 0.971487102839585,\n",
       " 0.978381808240913,\n",
       " 0.9812958863332207,\n",
       " 0.9835100145144796,\n",
       " 0.9843788285141329,\n",
       " 0.9865070729053319]"
      ]
     },
     "execution_count": 61,
     "metadata": {},
     "output_type": "execute_result"
    }
   ],
   "source": [
    "acc_coldstart_avg"
   ]
  },
  {
   "cell_type": "code",
   "execution_count": 49,
   "id": "3b91a241",
   "metadata": {},
   "outputs": [],
   "source": [
    "# acc_coldstart_avg += [acc_al_upper_limit]\n",
    "# acc_warmstart_avg += [acc_al_upper_limit]\n",
    "# acc_coldstart_se += [0]\n",
    "# acc_warmstart_se += [0]"
   ]
  },
  {
   "cell_type": "code",
   "execution_count": 62,
   "id": "d5dd9a67",
   "metadata": {},
   "outputs": [],
   "source": [
    "# create data for plot\n",
    "al_perf_acc = {\n",
    "    'relative_size': batch_sizes_cs,\n",
    "    'acc_lower_limit': [acc_al_lower_limit for _ in range(len(acc_coldstart_avg))],\n",
    "    'acc_upper_limit': [acc_al_upper_limit for _ in range(len(acc_coldstart_avg))],\n",
    "    'acc_coldstart': acc_coldstart_avg,\n",
    "    'se_coldstart': acc_coldstart_se,\n",
    "    'acc_warmstart': acc_warmstart_avg,\n",
    "    'se_warmstart': acc_warmstart_se,\n",
    "}\n",
    "al_perf_rec = {\n",
    "    'relative_size': batch_sizes_cs,\n",
    "    'rec_lower_limit': [rec_al_lower_limit for _ in range(len(acc_coldstart_avg))],\n",
    "    'rec_upper_limit': [rec_al_upper_limit for _ in range(len(acc_coldstart_avg))],\n",
    "    'rec_coldstart': rec_coldstart_avg,\n",
    "    'rec_coldstart_se': rec_coldstart_se,\n",
    "    'rec_warmstart': rec_warmstart\n",
    "}"
   ]
  },
  {
   "cell_type": "code",
   "execution_count": 63,
   "id": "8be5570e",
   "metadata": {},
   "outputs": [],
   "source": [
    "al_perf_acc_pd = pd.DataFrame(al_perf_acc)\n",
    "# al_perf_rec_pd = pd.DataFrame(al_perf_rec)"
   ]
  },
  {
   "cell_type": "code",
   "execution_count": 66,
   "id": "df9e2c26",
   "metadata": {},
   "outputs": [
    {
     "name": "stderr",
     "output_type": "stream",
     "text": [
      "The PostScript backend does not support transparency; partially transparent artists will be rendered opaque.\n"
     ]
    },
    {
     "data": {
      "image/png": "[encoded data removed]",
      "text/plain": [
       "<Figure size 864x504 with 1 Axes>"
      ]
     },
     "metadata": {
      "needs_background": "light"
     },
     "output_type": "display_data"
    }
   ],
   "source": [
    "fig, ax = plt.subplots()\n",
    "ax.errorbar(al_perf_acc_pd['relative_size'], al_perf_acc_pd['acc_coldstart'], al_perf_acc_pd['se_coldstart'])\n",
    "# ax.errorbar(al_perf_acc_pd['relative_size'], al_perf_acc_pd['acc_warmstart'], al_perf_acc_pd['se_warmstart'])\n",
    "ax.set_xlabel('relative (absolute) sample size')\n",
    "ax.set_xticks(al_perf_acc_pd['relative_size'])\n",
    "dataset_sizes = [\n",
    "    f' {round(i * 100)}% ({round(j)})' for i, j in zip(al_perf_acc_pd['relative_size'], np.cumsum(batch_sizes))\n",
    "]\n",
    "ax.set_xticklabels(dataset_sizes, rotation=45, ha='right')\n",
    "ax.set_ylabel('accuracy')\n",
    "ax.axhline(acc_al_lower_limit,color='gray',ls='--')\n",
    "ax.axhline(acc_al_upper_limit,color='green',ls='--')\n",
    "ax.legend(\n",
    "    title='training mode', \n",
    "    loc='lower right', \n",
    "    labels=['lower baseline', 'upper baseline', 'cold start']\n",
    "#     labels=['lower baseline', 'upper baseline', 'cold start', 'warm start']\n",
    ")\n",
    "plt_args = {\n",
    "    'figure.figsize': (12, 7),\n",
    "    'font.size': 16,\n",
    "    'xtick.labelsize': 12,\n",
    "    'ytick.labelsize': 16,\n",
    "    'xtick.alignment': 'right'\n",
    "}\n",
    "plt.rcParams.update(plt_args)\n",
    "plt.savefig(os.path.join(FIGDIR, 'active_learning.eps'), bbox_inches='tight')\n",
    "plt.savefig(os.path.join(FIGDIR, 'active_learning.png'), bbox_inches='tight')"
   ]
  }
 ],
 "metadata": {
  "kernelspec": {
   "display_name": "Python 3 (ipykernel)",
   "language": "python",
   "name": "python3"
  },
  "language_info": {
   "codemirror_mode": {
    "name": "ipython",
    "version": 3
   },
   "file_extension": ".py",
   "mimetype": "text/x-python",
   "name": "python",
   "nbconvert_exporter": "python",
   "pygments_lexer": "ipython3",
   "version": "3.9.13"
  }
 },
 "nbformat": 4,
 "nbformat_minor": 5
}
