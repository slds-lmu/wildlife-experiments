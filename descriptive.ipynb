{
 "cells": [
  {
   "cell_type": "markdown",
   "id": "74979aa8",
   "metadata": {},
   "source": [
    "# PREP"
   ]
  },
  {
   "cell_type": "code",
   "execution_count": 2,
   "id": "efda79cc",
   "metadata": {},
   "outputs": [],
   "source": [
    "import os\n",
    "import numpy as np\n",
    "import pandas as pd\n",
    "import matplotlib.pyplot as plt\n",
    "from wildlifeml.utils.io import (\n",
    "    load_csv, \n",
    "    load_json, \n",
    "    load_pickle,\n",
    ")"
   ]
  },
  {
   "cell_type": "code",
   "execution_count": 3,
   "id": "43ea6ec2",
   "metadata": {},
   "outputs": [],
   "source": [
    "REPODIR = '/home/lisa-wm/Documents/1_work/1_research/repos/wildlife-experiments'\n",
    "IMGDIR = '/common/bothmannl/wildlife_images/usecase2/original_images/'\n",
    "CFG = load_json(os.path.join(REPODIR, 'configs/cfg.json'))"
   ]
  },
  {
   "cell_type": "code",
   "execution_count": 4,
   "id": "aa570de4",
   "metadata": {
    "scrolled": true
   },
   "outputs": [],
   "source": [
    "LABEL_MAP = load_json(os.path.join(REPODIR, 'data/label_map.json'))\n",
    "LABEL_DICT = {k: v for k, v in load_csv(os.path.join(CFG['data_dir'], CFG['label_file']))}\n",
    "DETECTOR_DICT = load_json(os.path.join(CFG['data_dir'], CFG['detector_file']))\n",
    "META_DF = pd.read_csv(os.path.join(CFG['data_dir'], 'metadata.csv'))"
   ]
  },
  {
   "cell_type": "markdown",
   "id": "1e31f9d7",
   "metadata": {},
   "source": [
    "# DESCRIPTIVE"
   ]
  },
  {
   "cell_type": "markdown",
   "id": "9b2ae8cf",
   "metadata": {},
   "source": [
    "## STATS"
   ]
  },
  {
   "cell_type": "code",
   "execution_count": null,
   "id": "24350f52",
   "metadata": {},
   "outputs": [],
   "source": [
    "# Table 1: num imgs per class, by stratum"
   ]
  },
  {
   "cell_type": "markdown",
   "id": "8e7251be",
   "metadata": {},
   "source": [
    "## EXEMPLARY MISCLASSIFIED CASES"
   ]
  }
 ],
 "metadata": {
  "kernelspec": {
   "display_name": "Python 3 (ipykernel)",
   "language": "python",
   "name": "python3"
  },
  "language_info": {
   "codemirror_mode": {
    "name": "ipython",
    "version": 3
   },
   "file_extension": ".py",
   "mimetype": "text/x-python",
   "name": "python",
   "nbconvert_exporter": "python",
   "pygments_lexer": "ipython3",
   "version": "3.10.4"
  }
 },
 "nbformat": 4,
 "nbformat_minor": 5
}
