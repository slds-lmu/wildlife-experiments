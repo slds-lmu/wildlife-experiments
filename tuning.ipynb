{
 "cells": [
  {
   "cell_type": "markdown",
   "id": "74979aa8",
   "metadata": {},
   "source": [
    "# PREP"
   ]
  },
  {
   "cell_type": "code",
   "execution_count": 95,
   "id": "efda79cc",
   "metadata": {},
   "outputs": [],
   "source": [
    "import os\n",
    "import numpy as np\n",
    "import pandas as pd\n",
    "import matplotlib.pyplot as plt\n",
    "from wildlifeml.utils.io import (\n",
    "    load_csv, \n",
    "    load_json, \n",
    "    load_pickle,\n",
    ")"
   ]
  },
  {
   "cell_type": "code",
   "execution_count": 96,
   "id": "aa570de4",
   "metadata": {
    "scrolled": true
   },
   "outputs": [],
   "source": [
    "RESULTDIR = '/home/lisa-wm/Documents/1_work/1_research/repos/wildlife-experiments/results'\n",
    "# RESULTDIR = '/home/wimmerl/projects/wildlife-experiments/results'"
   ]
  },
  {
   "cell_type": "markdown",
   "id": "9b2ae8cf",
   "metadata": {},
   "source": [
    "# TUNING ARCHIVE"
   ]
  },
  {
   "cell_type": "code",
   "execution_count": 99,
   "id": "06d66336",
   "metadata": {
    "scrolled": true
   },
   "outputs": [],
   "source": [
    "TUNING_FILES = [os.path.join(RESULTDIR, f) for f in os.listdir(RESULTDIR) if 'results_tuning_archive' in f]\n",
    "tuning_archive = pd.concat(\n",
    "    [pd.read_csv(f, usecols=lambda x: x not in ['Unnamed: 0', 'ts']).drop_duplicates() for f in TUNING_FILES],\n",
    "    ignore_index=True\n",
    ")"
   ]
  },
  {
   "cell_type": "code",
   "execution_count": 100,
   "id": "09fbb976",
   "metadata": {},
   "outputs": [
    {
     "data": {
      "text/html": [
       "<div>\n",
       "<style scoped>\n",
       "    .dataframe tbody tr th:only-of-type {\n",
       "        vertical-align: middle;\n",
       "    }\n",
       "\n",
       "    .dataframe tbody tr th {\n",
       "        vertical-align: top;\n",
       "    }\n",
       "\n",
       "    .dataframe thead th {\n",
       "        text-align: right;\n",
       "    }\n",
       "</style>\n",
       "<table border=\"1\" class=\"dataframe\">\n",
       "  <thead>\n",
       "    <tr style=\"text-align: right;\">\n",
       "      <th></th>\n",
       "      <th></th>\n",
       "      <th></th>\n",
       "      <th>f1</th>\n",
       "      <th>acc</th>\n",
       "      <th>prec</th>\n",
       "      <th>rec</th>\n",
       "      <th>empty_tnr</th>\n",
       "      <th>empty_tpr</th>\n",
       "      <th>empty_fnr</th>\n",
       "      <th>empty_fpr</th>\n",
       "    </tr>\n",
       "    <tr>\n",
       "      <th>md_threshold</th>\n",
       "      <th>backbone</th>\n",
       "      <th>finetune_layers</th>\n",
       "      <th></th>\n",
       "      <th></th>\n",
       "      <th></th>\n",
       "      <th></th>\n",
       "      <th></th>\n",
       "      <th></th>\n",
       "      <th></th>\n",
       "      <th></th>\n",
       "    </tr>\n",
       "  </thead>\n",
       "  <tbody>\n",
       "    <tr>\n",
       "      <th>0.1</th>\n",
       "      <th>xception</th>\n",
       "      <th>0</th>\n",
       "      <td>0.723599</td>\n",
       "      <td>0.843215</td>\n",
       "      <td>0.818651</td>\n",
       "      <td>0.681461</td>\n",
       "      <td>0.739027</td>\n",
       "      <td>0.974932</td>\n",
       "      <td>0.025068</td>\n",
       "      <td>0.260973</td>\n",
       "    </tr>\n",
       "    <tr>\n",
       "      <th>0.3</th>\n",
       "      <th>xception</th>\n",
       "      <th>0</th>\n",
       "      <td>0.734860</td>\n",
       "      <td>0.861133</td>\n",
       "      <td>0.817791</td>\n",
       "      <td>0.690331</td>\n",
       "      <td>0.856465</td>\n",
       "      <td>0.957995</td>\n",
       "      <td>0.042005</td>\n",
       "      <td>0.143535</td>\n",
       "    </tr>\n",
       "    <tr>\n",
       "      <th>0.5</th>\n",
       "      <th>xception</th>\n",
       "      <th>0</th>\n",
       "      <td>0.745648</td>\n",
       "      <td>0.870092</td>\n",
       "      <td>0.850408</td>\n",
       "      <td>0.694126</td>\n",
       "      <td>0.881376</td>\n",
       "      <td>0.952236</td>\n",
       "      <td>0.047764</td>\n",
       "      <td>0.118624</td>\n",
       "    </tr>\n",
       "    <tr>\n",
       "      <th>0.7</th>\n",
       "      <th>xception</th>\n",
       "      <th>0</th>\n",
       "      <td>0.740293</td>\n",
       "      <td>0.865876</td>\n",
       "      <td>0.847622</td>\n",
       "      <td>0.687111</td>\n",
       "      <td>0.903915</td>\n",
       "      <td>0.945122</td>\n",
       "      <td>0.054878</td>\n",
       "      <td>0.096085</td>\n",
       "    </tr>\n",
       "    <tr>\n",
       "      <th>0.9</th>\n",
       "      <th>xception</th>\n",
       "      <th>0</th>\n",
       "      <td>0.742300</td>\n",
       "      <td>0.871146</td>\n",
       "      <td>0.851514</td>\n",
       "      <td>0.689289</td>\n",
       "      <td>0.943060</td>\n",
       "      <td>0.933604</td>\n",
       "      <td>0.066396</td>\n",
       "      <td>0.056940</td>\n",
       "    </tr>\n",
       "  </tbody>\n",
       "</table>\n",
       "</div>"
      ],
      "text/plain": [
       "                                             f1       acc      prec       rec  \\\n",
       "md_threshold backbone finetune_layers                                           \n",
       "0.1          xception 0                0.723599  0.843215  0.818651  0.681461   \n",
       "0.3          xception 0                0.734860  0.861133  0.817791  0.690331   \n",
       "0.5          xception 0                0.745648  0.870092  0.850408  0.694126   \n",
       "0.7          xception 0                0.740293  0.865876  0.847622  0.687111   \n",
       "0.9          xception 0                0.742300  0.871146  0.851514  0.689289   \n",
       "\n",
       "                                       empty_tnr  empty_tpr  empty_fnr  \\\n",
       "md_threshold backbone finetune_layers                                    \n",
       "0.1          xception 0                 0.739027   0.974932   0.025068   \n",
       "0.3          xception 0                 0.856465   0.957995   0.042005   \n",
       "0.5          xception 0                 0.881376   0.952236   0.047764   \n",
       "0.7          xception 0                 0.903915   0.945122   0.054878   \n",
       "0.9          xception 0                 0.943060   0.933604   0.066396   \n",
       "\n",
       "                                       empty_fpr  \n",
       "md_threshold backbone finetune_layers             \n",
       "0.1          xception 0                 0.260973  \n",
       "0.3          xception 0                 0.143535  \n",
       "0.5          xception 0                 0.118624  \n",
       "0.7          xception 0                 0.096085  \n",
       "0.9          xception 0                 0.056940  "
      ]
     },
     "execution_count": 100,
     "metadata": {},
     "output_type": "execute_result"
    }
   ],
   "source": [
    "tuning_archive_avg = tuning_archive.groupby(['md_threshold', 'backbone', 'finetune_layers']).mean()\n",
    "tuning_archive_avg"
   ]
  }
 ],
 "metadata": {
  "kernelspec": {
   "display_name": "Python 3 (ipykernel)",
   "language": "python",
   "name": "python3"
  },
  "language_info": {
   "codemirror_mode": {
    "name": "ipython",
    "version": 3
   },
   "file_extension": ".py",
   "mimetype": "text/x-python",
   "name": "python",
   "nbconvert_exporter": "python",
   "pygments_lexer": "ipython3",
   "version": "3.10.4"
  }
 },
 "nbformat": 4,
 "nbformat_minor": 5
}
