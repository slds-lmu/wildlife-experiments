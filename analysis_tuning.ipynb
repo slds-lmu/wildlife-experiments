{
 "cells": [
  {
   "cell_type": "markdown",
   "id": "74979aa8",
   "metadata": {},
   "source": [
    "# PREP"
   ]
  },
  {
   "cell_type": "code",
   "execution_count": 1,
   "id": "efda79cc",
   "metadata": {},
   "outputs": [
    {
     "name": "stderr",
     "output_type": "stream",
     "text": [
      "2023-07-13 06:59:29.574629: W tensorflow/stream_executor/platform/default/dso_loader.cc:64] Could not load dynamic library 'libcudart.so.11.0'; dlerror: libcudart.so.11.0: cannot open shared object file: No such file or directory; LD_LIBRARY_PATH: /home/lisa-wm/miniconda2/envs/wildlife/lib/python3.10/site-packages/cv2/../../lib64:\n",
      "2023-07-13 06:59:29.574644: I tensorflow/stream_executor/cuda/cudart_stub.cc:29] Ignore above cudart dlerror if you do not have a GPU set up on your machine.\n",
      "2023-07-13 06:59:31.220447: W tensorflow/stream_executor/platform/default/dso_loader.cc:64] Could not load dynamic library 'libcuda.so.1'; dlerror: libcuda.so.1: cannot open shared object file: No such file or directory; LD_LIBRARY_PATH: /home/lisa-wm/miniconda2/envs/wildlife/lib/python3.10/site-packages/cv2/../../lib64:\n",
      "2023-07-13 06:59:31.220463: W tensorflow/stream_executor/cuda/cuda_driver.cc:269] failed call to cuInit: UNKNOWN ERROR (303)\n",
      "2023-07-13 06:59:31.220477: I tensorflow/stream_executor/cuda/cuda_diagnostics.cc:156] kernel driver does not appear to be running on this host (lisa-wm): /proc/driver/nvidia/version does not exist\n"
     ]
    }
   ],
   "source": [
    "import os\n",
    "import numpy as np\n",
    "import pandas as pd\n",
    "import matplotlib.pyplot as plt\n",
    "from wildlifeml.utils.io import (\n",
    "    load_csv, \n",
    "    load_json, \n",
    "    load_pickle,\n",
    ")"
   ]
  },
  {
   "cell_type": "code",
   "execution_count": 2,
   "id": "aa570de4",
   "metadata": {
    "scrolled": true
   },
   "outputs": [],
   "source": [
    "RESULTDIR = '/home/lisa-wm/Documents/1_work/1_research/repos/wildlife-experiments/results/channel_islands/tuning'\n",
    "# RESULTDIR = '/home/lisa-wm/Documents/1_work/1_research/repos/wildlife-experiments/results/tuning'\n",
    "# RESULTDIR = '/home/wimmerl/projects/wildlife-experiments/results'"
   ]
  },
  {
   "cell_type": "markdown",
   "id": "9b2ae8cf",
   "metadata": {},
   "source": [
    "# TUNING ARCHIVE"
   ]
  },
  {
   "cell_type": "markdown",
   "id": "299ac700",
   "metadata": {},
   "source": [
    "## MD4"
   ]
  },
  {
   "cell_type": "code",
   "execution_count": 10,
   "id": "06d66336",
   "metadata": {},
   "outputs": [],
   "source": [
    "TUNING_FILES_MD4 = [\n",
    "    os.path.join(RESULTDIR, f) for f in os.listdir(RESULTDIR) if 'results_tuning_archive' in f and 'md5' not in f\n",
    "]\n",
    "TIMESTAMPS = ['202303151732', '202303160630']\n",
    "tuning_archive_md4 = pd.concat(\n",
    "    [pd.read_csv(f, usecols=lambda x: x not in ['Unnamed: 0']).drop_duplicates() for f in TUNING_FILES_MD4],\n",
    "    ignore_index=True\n",
    ")\n",
    "tuning_archive_md4['ts'] = tuning_archive_md4['ts'].astype(int).astype(str)\n",
    "tuning_archive_md4 = tuning_archive_md4.loc[tuning_archive_md4['ts'].isin(TIMESTAMPS)].drop(columns='ts')"
   ]
  },
  {
   "cell_type": "markdown",
   "id": "0cd84cad",
   "metadata": {},
   "source": [
    "## MD5"
   ]
  },
  {
   "cell_type": "code",
   "execution_count": 5,
   "id": "cb9b90c1",
   "metadata": {},
   "outputs": [],
   "source": [
    "TUNING_FILES_MD5 = [os.path.join(RESULTDIR, f) for f in os.listdir(RESULTDIR) if 'results_tuning_archive_md5' in f]\n",
    "tuning_archive_md5 = pd.concat(\n",
    "    [pd.read_csv(f, usecols=lambda x: x not in ['Unnamed: 0']).drop_duplicates() for f in TUNING_FILES_MD5],\n",
    "    ignore_index=True\n",
    ")\n",
    "tuning_archive_md5 = tuning_archive_md5.drop(columns='ts')"
   ]
  },
  {
   "cell_type": "markdown",
   "id": "dff4ab0a",
   "metadata": {},
   "source": [
    "## INSPECT"
   ]
  },
  {
   "cell_type": "code",
   "execution_count": 12,
   "id": "492eedbb",
   "metadata": {},
   "outputs": [],
   "source": [
    "for axv, suffix in zip([tuning_archive_md4, tuning_archive_md5], ['md4', 'md5']):\n",
    "    axv = axv.groupby(['md_threshold', 'backbone', 'finetune_layers']).mean(numeric_only=True)\n",
    "    axv.sort_values('f1', ascending=False).to_csv(os.path.join(RESULTDIR, f'tuning_{suffix}.csv'))"
   ]
  },
  {
   "cell_type": "code",
   "execution_count": 12,
   "id": "742b4cd4",
   "metadata": {},
   "outputs": [],
   "source": [
    "# new data\n",
    "axv = tuning_archive_md5.groupby(['md_threshold', 'backbone', 'finetune_layers']).mean(numeric_only=True)\n",
    "axv.sort_values('f1', ascending=False).to_csv(os.path.join(RESULTDIR, 'tuning_md5.csv'))"
   ]
  }
 ],
 "metadata": {
  "kernelspec": {
   "display_name": "Python 3 (ipykernel)",
   "language": "python",
   "name": "python3"
  },
  "language_info": {
   "codemirror_mode": {
    "name": "ipython",
    "version": 3
   },
   "file_extension": ".py",
   "mimetype": "text/x-python",
   "name": "python",
   "nbconvert_exporter": "python",
   "pygments_lexer": "ipython3",
   "version": "3.10.4"
  }
 },
 "nbformat": 4,
 "nbformat_minor": 5
}
