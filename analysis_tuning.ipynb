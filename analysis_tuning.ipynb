{
 "cells": [
  {
   "cell_type": "markdown",
   "id": "74979aa8",
   "metadata": {},
   "source": [
    "# PREP"
   ]
  },
  {
   "cell_type": "code",
   "execution_count": 1,
   "id": "efda79cc",
   "metadata": {
    "collapsed": true
   },
   "outputs": [
    {
     "name": "stderr",
     "output_type": "stream",
     "text": [
      "2023-07-20 09:46:49.899282: I tensorflow/stream_executor/platform/default/dso_loader.cc:49] Successfully opened dynamic library libcudart.so.10.1\n",
      "2023-07-20 09:46:52.698586: I tensorflow/compiler/jit/xla_cpu_device.cc:41] Not creating XLA devices, tf_xla_enable_xla_devices not set\n",
      "2023-07-20 09:46:52.698715: I tensorflow/stream_executor/platform/default/dso_loader.cc:49] Successfully opened dynamic library libcuda.so.1\n",
      "2023-07-20 09:46:52.737199: I tensorflow/core/common_runtime/gpu/gpu_device.cc:1720] Found device 0 with properties: \n",
      "pciBusID: 0000:18:00.0 name: GeForce RTX 2080 Ti computeCapability: 7.5\n",
      "coreClock: 1.545GHz coreCount: 68 deviceMemorySize: 10.76GiB deviceMemoryBandwidth: 573.69GiB/s\n",
      "2023-07-20 09:46:52.737712: I tensorflow/core/common_runtime/gpu/gpu_device.cc:1720] Found device 1 with properties: \n",
      "pciBusID: 0000:3b:00.0 name: GeForce RTX 2080 Ti computeCapability: 7.5\n",
      "coreClock: 1.545GHz coreCount: 68 deviceMemorySize: 10.76GiB deviceMemoryBandwidth: 573.69GiB/s\n",
      "2023-07-20 09:46:52.738473: I tensorflow/core/common_runtime/gpu/gpu_device.cc:1720] Found device 2 with properties: \n",
      "pciBusID: 0000:86:00.0 name: GeForce RTX 2080 Ti computeCapability: 7.5\n",
      "coreClock: 1.545GHz coreCount: 68 deviceMemorySize: 10.76GiB deviceMemoryBandwidth: 573.69GiB/s\n",
      "2023-07-20 09:46:52.738900: I tensorflow/core/common_runtime/gpu/gpu_device.cc:1720] Found device 3 with properties: \n",
      "pciBusID: 0000:af:00.0 name: GeForce RTX 2080 Ti computeCapability: 7.5\n",
      "coreClock: 1.545GHz coreCount: 68 deviceMemorySize: 10.76GiB deviceMemoryBandwidth: 573.69GiB/s\n",
      "2023-07-20 09:46:52.738946: I tensorflow/stream_executor/platform/default/dso_loader.cc:49] Successfully opened dynamic library libcudart.so.10.1\n",
      "2023-07-20 09:46:52.741813: I tensorflow/stream_executor/platform/default/dso_loader.cc:49] Successfully opened dynamic library libcublas.so.10\n",
      "2023-07-20 09:46:52.741878: I tensorflow/stream_executor/platform/default/dso_loader.cc:49] Successfully opened dynamic library libcublasLt.so.10\n",
      "2023-07-20 09:46:52.741898: I tensorflow/stream_executor/platform/default/dso_loader.cc:49] Successfully opened dynamic library libcufft.so.10\n",
      "2023-07-20 09:46:52.741916: I tensorflow/stream_executor/platform/default/dso_loader.cc:49] Successfully opened dynamic library libcurand.so.10\n",
      "2023-07-20 09:46:52.744075: I tensorflow/stream_executor/platform/default/dso_loader.cc:49] Successfully opened dynamic library libcusolver.so.10\n",
      "2023-07-20 09:46:52.745613: I tensorflow/stream_executor/platform/default/dso_loader.cc:49] Successfully opened dynamic library libcusparse.so.10\n",
      "2023-07-20 09:46:52.750315: I tensorflow/stream_executor/platform/default/dso_loader.cc:49] Successfully opened dynamic library libcudnn.so.7\n",
      "2023-07-20 09:46:52.755014: I tensorflow/core/common_runtime/gpu/gpu_device.cc:1862] Adding visible gpu devices: 0, 1, 2, 3\n"
     ]
    }
   ],
   "source": [
    "import os\n",
    "import numpy as np\n",
    "import pandas as pd\n",
    "import matplotlib.pyplot as plt\n",
    "from wildlifeml.utils.io import (\n",
    "    load_csv, \n",
    "    load_json, \n",
    "    load_pickle,\n",
    ")"
   ]
  },
  {
   "cell_type": "code",
   "execution_count": 6,
   "id": "aa570de4",
   "metadata": {
    "scrolled": true
   },
   "outputs": [],
   "source": [
    "# RESULTDIR = '/home/lisa-wm/Documents/1_work/1_research/repos/wildlife-experiments/results/channel_islands/tuning'\n",
    "# RESULTDIR = '/home/lisa-wm/Documents/1_work/1_research/repos/wildlife-experiments/results/tuning'\n",
    "RESULTDIR = '/home/wimmerl/projects/wildlife-experiments/results/channel_islands/tuning'"
   ]
  },
  {
   "cell_type": "markdown",
   "id": "9b2ae8cf",
   "metadata": {},
   "source": [
    "# TUNING ARCHIVE"
   ]
  },
  {
   "cell_type": "markdown",
   "id": "299ac700",
   "metadata": {},
   "source": [
    "## MD4"
   ]
  },
  {
   "cell_type": "code",
   "execution_count": 10,
   "id": "06d66336",
   "metadata": {},
   "outputs": [],
   "source": [
    "TUNING_FILES_MD4 = [\n",
    "    os.path.join(RESULTDIR, f) for f in os.listdir(RESULTDIR) if 'results_tuning_archive' in f and 'md5' not in f\n",
    "]\n",
    "TIMESTAMPS = ['202303151732', '202303160630']\n",
    "tuning_archive_md4 = pd.concat(\n",
    "    [pd.read_csv(f, usecols=lambda x: x not in ['Unnamed: 0']).drop_duplicates() for f in TUNING_FILES_MD4],\n",
    "    ignore_index=True\n",
    ")\n",
    "tuning_archive_md4['ts'] = tuning_archive_md4['ts'].astype(int).astype(str)\n",
    "tuning_archive_md4 = tuning_archive_md4.loc[tuning_archive_md4['ts'].isin(TIMESTAMPS)].drop(columns='ts')"
   ]
  },
  {
   "cell_type": "markdown",
   "id": "0cd84cad",
   "metadata": {},
   "source": [
    "## MD5"
   ]
  },
  {
   "cell_type": "code",
   "execution_count": 10,
   "id": "cb9b90c1",
   "metadata": {},
   "outputs": [],
   "source": [
    "TUNING_FILES_MD5 = [os.path.join(RESULTDIR, f) for f in os.listdir(RESULTDIR) if 'results_tuning_archive_md5' in f]\n",
    "TIMESTAMPS = ['202307200822', '202307191852', '202307192138', '202307192203', '202307192217', '202307192347']\n",
    "tuning_archive_md5 = pd.concat(\n",
    "    [pd.read_csv(f, usecols=lambda x: x not in ['Unnamed: 0']).drop_duplicates() for f in TUNING_FILES_MD5],\n",
    "    ignore_index=True\n",
    ")\n",
    "# tuning_archive_md5 = tuning_archive_md5.drop(columns='ts')\n",
    "tuning_archive_md5['ts'] = tuning_archive_md5['ts'].astype(int).astype(str)\n",
    "tuning_archive_md5 = tuning_archive_md5.loc[tuning_archive_md5['ts'].isin(TIMESTAMPS)].drop(columns='ts')"
   ]
  },
  {
   "cell_type": "markdown",
   "id": "dff4ab0a",
   "metadata": {},
   "source": [
    "## INSPECT"
   ]
  },
  {
   "cell_type": "code",
   "execution_count": 9,
   "id": "742b4cd4",
   "metadata": {},
   "outputs": [],
   "source": [
    "# new data\n",
    "axv = tuning_archive_md5.groupby(['md_threshold', 'backbone', 'finetune_layers']).mean(numeric_only=True)\n",
    "axv.sort_values('f1', ascending=False).to_csv(os.path.join(RESULTDIR, 'tuning_md5.csv'))"
   ]
  }
 ],
 "metadata": {
  "kernelspec": {
   "display_name": "Python 3 (ipykernel)",
   "language": "python",
   "name": "python3"
  },
  "language_info": {
   "codemirror_mode": {
    "name": "ipython",
    "version": 3
   },
   "file_extension": ".py",
   "mimetype": "text/x-python",
   "name": "python",
   "nbconvert_exporter": "python",
   "pygments_lexer": "ipython3",
   "version": "3.9.13"
  }
 },
 "nbformat": 4,
 "nbformat_minor": 5
}
