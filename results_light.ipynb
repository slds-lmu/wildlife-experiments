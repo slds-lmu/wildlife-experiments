{
 "cells": [
  {
   "cell_type": "markdown",
   "id": "74979aa8",
   "metadata": {},
   "source": [
    "# PREP"
   ]
  },
  {
   "cell_type": "code",
   "execution_count": 1,
   "id": "efda79cc",
   "metadata": {
    "collapsed": true
   },
   "outputs": [
    {
     "name": "stderr",
     "output_type": "stream",
     "text": [
      "2023-02-10 11:16:28.571000: I tensorflow/stream_executor/platform/default/dso_loader.cc:49] Successfully opened dynamic library libcudart.so.10.1\n",
      "2023-02-10 11:16:29.651812: I tensorflow/compiler/jit/xla_cpu_device.cc:41] Not creating XLA devices, tf_xla_enable_xla_devices not set\n",
      "2023-02-10 11:16:29.652918: I tensorflow/stream_executor/platform/default/dso_loader.cc:49] Successfully opened dynamic library libcuda.so.1\n",
      "2023-02-10 11:16:29.706036: I tensorflow/core/common_runtime/gpu/gpu_device.cc:1720] Found device 0 with properties: \n",
      "pciBusID: 0000:18:00.0 name: GeForce RTX 2080 Ti computeCapability: 7.5\n",
      "coreClock: 1.545GHz coreCount: 68 deviceMemorySize: 10.76GiB deviceMemoryBandwidth: 573.69GiB/s\n",
      "2023-02-10 11:16:29.706866: I tensorflow/core/common_runtime/gpu/gpu_device.cc:1720] Found device 1 with properties: \n",
      "pciBusID: 0000:3b:00.0 name: GeForce RTX 2080 Ti computeCapability: 7.5\n",
      "coreClock: 1.545GHz coreCount: 68 deviceMemorySize: 10.76GiB deviceMemoryBandwidth: 573.69GiB/s\n",
      "2023-02-10 11:16:29.707333: I tensorflow/core/common_runtime/gpu/gpu_device.cc:1720] Found device 2 with properties: \n",
      "pciBusID: 0000:86:00.0 name: GeForce RTX 2080 Ti computeCapability: 7.5\n",
      "coreClock: 1.545GHz coreCount: 68 deviceMemorySize: 10.76GiB deviceMemoryBandwidth: 573.69GiB/s\n",
      "2023-02-10 11:16:29.707867: I tensorflow/core/common_runtime/gpu/gpu_device.cc:1720] Found device 3 with properties: \n",
      "pciBusID: 0000:af:00.0 name: GeForce RTX 2080 Ti computeCapability: 7.5\n",
      "coreClock: 1.545GHz coreCount: 68 deviceMemorySize: 10.76GiB deviceMemoryBandwidth: 573.69GiB/s\n",
      "2023-02-10 11:16:29.707917: I tensorflow/stream_executor/platform/default/dso_loader.cc:49] Successfully opened dynamic library libcudart.so.10.1\n",
      "2023-02-10 11:16:29.709882: I tensorflow/stream_executor/platform/default/dso_loader.cc:49] Successfully opened dynamic library libcublas.so.10\n",
      "2023-02-10 11:16:29.709968: I tensorflow/stream_executor/platform/default/dso_loader.cc:49] Successfully opened dynamic library libcublasLt.so.10\n",
      "2023-02-10 11:16:29.711790: I tensorflow/stream_executor/platform/default/dso_loader.cc:49] Successfully opened dynamic library libcufft.so.10\n",
      "2023-02-10 11:16:29.712117: I tensorflow/stream_executor/platform/default/dso_loader.cc:49] Successfully opened dynamic library libcurand.so.10\n",
      "2023-02-10 11:16:29.714162: I tensorflow/stream_executor/platform/default/dso_loader.cc:49] Successfully opened dynamic library libcusolver.so.10\n",
      "2023-02-10 11:16:29.715186: I tensorflow/stream_executor/platform/default/dso_loader.cc:49] Successfully opened dynamic library libcusparse.so.10\n",
      "2023-02-10 11:16:29.719238: I tensorflow/stream_executor/platform/default/dso_loader.cc:49] Successfully opened dynamic library libcudnn.so.7\n",
      "2023-02-10 11:16:29.723646: I tensorflow/core/common_runtime/gpu/gpu_device.cc:1862] Adding visible gpu devices: 0, 1, 2, 3\n"
     ]
    }
   ],
   "source": [
    "import os\n",
    "import numpy as np\n",
    "import pandas as pd\n",
    "import matplotlib.pyplot as plt\n",
    "from sklearn.metrics import (\n",
    "    classification_report, \n",
    "    confusion_matrix, \n",
    "    multilabel_confusion_matrix,\n",
    "    ConfusionMatrixDisplay, \n",
    "    accuracy_score\n",
    ")\n",
    "from wildlifeml.utils.io import (\n",
    "    load_csv, \n",
    "    load_json, \n",
    "    load_pickle,\n",
    ")"
   ]
  },
  {
   "cell_type": "code",
   "execution_count": 2,
   "id": "aa570de4",
   "metadata": {
    "scrolled": true
   },
   "outputs": [],
   "source": [
    "# REPODIR = '/home/lisa-wm/Documents/1_work/1_research/repos/wildlife-experiments'\n",
    "REPODIR = '/home/wimmerl/projects/wildlife-experiments'\n",
    "\n",
    "CFG = load_json(os.path.join(REPODIR, 'configs/cfg.json'))\n",
    "LABEL_MAP = load_json(os.path.join(REPODIR, 'data/label_map.json'))\n",
    "EMPTY_CLASS = LABEL_MAP['empty']\n",
    "CONFMAT_ARGS = {\n",
    "    'normalize': 'true',\n",
    "    'values_format': '.2f',\n",
    "    'display_labels': list(LABEL_MAP.keys()),\n",
    "    'xticks_rotation': 'vertical',\n",
    "    'colorbar': False,\n",
    "    'cmap': 'Blues',\n",
    "}"
   ]
  },
  {
   "cell_type": "markdown",
   "id": "9b2ae8cf",
   "metadata": {},
   "source": [
    "# IN-SAMPLE"
   ]
  },
  {
   "cell_type": "code",
   "execution_count": 32,
   "id": "06d66336",
   "metadata": {
    "scrolled": true
   },
   "outputs": [],
   "source": [
    "RESULTS_INSAMPLE_TEST = load_pickle('results/202302101601_insample_test.pkl')\n",
    "RESULTS_INSAMPLE_VAL = load_pickle('results/202302101601_insample_val.pkl')\n",
    "THRESHOLDS = list(RESULTS_INSAMPLE_TEST.keys())\n",
    "OUR_THRESH = 0.25"
   ]
  },
  {
   "cell_type": "markdown",
   "id": "b09249b7",
   "metadata": {},
   "source": [
    "## PERFORMANCE ACROSS THRESHOLDS ON TEST\n",
    "\n",
    "Using varying thresholds for the MD, how well is our pipeline able to 1) classify images overall, 2) detect empty images correctly?"
   ]
  },
  {
   "cell_type": "code",
   "execution_count": 29,
   "id": "3ae3ad2e",
   "metadata": {
    "scrolled": false
   },
   "outputs": [
    {
     "name": "stdout",
     "output_type": "stream",
     "text": [
      "[[[1165   81]\n",
      "  [  27  271]]]\n",
      "[[[1124  122]\n",
      "  [  37  261]]]\n",
      "[[[1181   65]\n",
      "  [  83  215]]]\n"
     ]
    }
   ],
   "source": [
    "rows_multiclass = []\n",
    "rows_empty = []\n",
    "\n",
    "for t in THRESHOLDS:\n",
    "    result_test = RESULTS_INSAMPLE_TEST[t]\n",
    "    result_val = RESULTS_INSAMPLE_VAL[t]\n",
    "    y_true_test = result_test['truth_imgs']\n",
    "    y_true_val = result_val['truth_imgs']\n",
    "    y_pred_test = [np.argmax(v) for v in result_test['preds_imgs'].values()]\n",
    "    y_pred_val = [np.argmax(v) for v in result_val['preds_imgs'].values()]\n",
    "    report = classification_report(\n",
    "        y_true=y_true, \n",
    "        y_pred=y_pred,\n",
    "        target_names=list(LABEL_MAP.keys()),\n",
    "        zero_division=0,\n",
    "        output_dict=True,\n",
    "    )\n",
    "    rows_multiclass.append(\n",
    "        [\n",
    "            t,\n",
    "            report['accuracy'], \n",
    "            report['weighted avg']['precision'], \n",
    "            report['weighted avg']['recall'], \n",
    "            report['weighted avg']['f1-score']\n",
    "        ]    \n",
    "    )\n",
    "    conf_empty = multilabel_confusion_matrix(y_true, y_pred, labels=[EMPTY_CLASS])\n",
    "    rows_empty.append(\n",
    "        [\n",
    "            t,\n",
    "            (conf_empty[0][0, 0] + conf_empty[0][1, 1]) / conf_empty.sum(),\n",
    "            report['empty']['precision'],\n",
    "            report['empty']['recall'],\n",
    "            report['empty']['f1-score'],\n",
    "        ]\n",
    "    )\n",
    "df_ins_multiclass = pd.DataFrame(rows_multiclass, columns=['threshold', 'acc', 'prec', 'rec', 'fone'])\n",
    "df_ins_empty = pd.DataFrame(rows_empty, columns=['threshold', 'acc', 'prec', 'rec', 'fone'])"
   ]
  },
  {
   "cell_type": "code",
   "execution_count": 27,
   "id": "76e0f03c",
   "metadata": {
    "scrolled": true
   },
   "outputs": [
    {
     "data": {
      "text/html": [
       "<div>\n",
       "<style scoped>\n",
       "    .dataframe tbody tr th:only-of-type {\n",
       "        vertical-align: middle;\n",
       "    }\n",
       "\n",
       "    .dataframe tbody tr th {\n",
       "        vertical-align: top;\n",
       "    }\n",
       "\n",
       "    .dataframe thead th {\n",
       "        text-align: right;\n",
       "    }\n",
       "</style>\n",
       "<table border=\"1\" class=\"dataframe\">\n",
       "  <thead>\n",
       "    <tr style=\"text-align: right;\">\n",
       "      <th></th>\n",
       "      <th>threshold</th>\n",
       "      <th>acc</th>\n",
       "      <th>prec</th>\n",
       "      <th>rec</th>\n",
       "      <th>fone</th>\n",
       "    </tr>\n",
       "  </thead>\n",
       "  <tbody>\n",
       "    <tr>\n",
       "      <th>0</th>\n",
       "      <td>0.25</td>\n",
       "      <td>0.825130</td>\n",
       "      <td>0.819511</td>\n",
       "      <td>0.825130</td>\n",
       "      <td>0.805121</td>\n",
       "    </tr>\n",
       "    <tr>\n",
       "      <th>1</th>\n",
       "      <td>0.50</td>\n",
       "      <td>0.678109</td>\n",
       "      <td>0.734430</td>\n",
       "      <td>0.678109</td>\n",
       "      <td>0.685618</td>\n",
       "    </tr>\n",
       "    <tr>\n",
       "      <th>2</th>\n",
       "      <td>0.90</td>\n",
       "      <td>0.663860</td>\n",
       "      <td>0.655015</td>\n",
       "      <td>0.663860</td>\n",
       "      <td>0.640578</td>\n",
       "    </tr>\n",
       "  </tbody>\n",
       "</table>\n",
       "</div>"
      ],
      "text/plain": [
       "   threshold       acc      prec       rec      fone\n",
       "0       0.25  0.825130  0.819511  0.825130  0.805121\n",
       "1       0.50  0.678109  0.734430  0.678109  0.685618\n",
       "2       0.90  0.663860  0.655015  0.663860  0.640578"
      ]
     },
     "execution_count": 27,
     "metadata": {},
     "output_type": "execute_result"
    }
   ],
   "source": [
    "df_ins_multiclass  # Table 3"
   ]
  },
  {
   "cell_type": "code",
   "execution_count": 28,
   "id": "e84bdf01",
   "metadata": {
    "scrolled": true
   },
   "outputs": [
    {
     "data": {
      "text/html": [
       "<div>\n",
       "<style scoped>\n",
       "    .dataframe tbody tr th:only-of-type {\n",
       "        vertical-align: middle;\n",
       "    }\n",
       "\n",
       "    .dataframe tbody tr th {\n",
       "        vertical-align: top;\n",
       "    }\n",
       "\n",
       "    .dataframe thead th {\n",
       "        text-align: right;\n",
       "    }\n",
       "</style>\n",
       "<table border=\"1\" class=\"dataframe\">\n",
       "  <thead>\n",
       "    <tr style=\"text-align: right;\">\n",
       "      <th></th>\n",
       "      <th>threshold</th>\n",
       "      <th>acc</th>\n",
       "      <th>prec</th>\n",
       "      <th>rec</th>\n",
       "      <th>fone</th>\n",
       "    </tr>\n",
       "  </thead>\n",
       "  <tbody>\n",
       "    <tr>\n",
       "      <th>0</th>\n",
       "      <td>0.25</td>\n",
       "      <td>0.930052</td>\n",
       "      <td>0.769886</td>\n",
       "      <td>0.909396</td>\n",
       "      <td>0.833846</td>\n",
       "    </tr>\n",
       "    <tr>\n",
       "      <th>1</th>\n",
       "      <td>0.50</td>\n",
       "      <td>0.897021</td>\n",
       "      <td>0.681462</td>\n",
       "      <td>0.875839</td>\n",
       "      <td>0.766520</td>\n",
       "    </tr>\n",
       "    <tr>\n",
       "      <th>2</th>\n",
       "      <td>0.90</td>\n",
       "      <td>0.904145</td>\n",
       "      <td>0.767857</td>\n",
       "      <td>0.721477</td>\n",
       "      <td>0.743945</td>\n",
       "    </tr>\n",
       "  </tbody>\n",
       "</table>\n",
       "</div>"
      ],
      "text/plain": [
       "   threshold       acc      prec       rec      fone\n",
       "0       0.25  0.930052  0.769886  0.909396  0.833846\n",
       "1       0.50  0.897021  0.681462  0.875839  0.766520\n",
       "2       0.90  0.904145  0.767857  0.721477  0.743945"
      ]
     },
     "execution_count": 28,
     "metadata": {},
     "output_type": "execute_result"
    }
   ],
   "source": [
    "df_ins_empty  # Table 2"
   ]
  },
  {
   "cell_type": "markdown",
   "id": "c1cf2ff2",
   "metadata": {},
   "source": [
    "## PERFORMANCE ACROSS THRESHOLDS ON VAL\n",
    "\n",
    "Using varying thresholds for the MD, how well is our pipeline able to 1) classify images overall, 2) detect empty images correctly?"
   ]
  },
  {
   "cell_type": "code",
   "execution_count": 33,
   "id": "2bb15040",
   "metadata": {
    "scrolled": false
   },
   "outputs": [],
   "source": [
    "rows_multiclass = []\n",
    "rows_empty = []\n",
    "\n",
    "for t in THRESHOLDS:\n",
    "    result = RESULTS_INSAMPLE_VAL[t]\n",
    "    y_true = result['truth_imgs']\n",
    "    y_pred = [np.argmax(v) for v in result['preds_imgs'].values()]\n",
    "    report = classification_report(\n",
    "        y_true=y_true, \n",
    "        y_pred=y_pred,\n",
    "        target_names=list(LABEL_MAP.keys()),\n",
    "        zero_division=0,\n",
    "        output_dict=True,\n",
    "    )\n",
    "    rows_multiclass.append(\n",
    "        [\n",
    "            t,\n",
    "            report['accuracy'], \n",
    "            report['weighted avg']['precision'], \n",
    "            report['weighted avg']['recall'], \n",
    "            report['weighted avg']['f1-score']\n",
    "        ]    \n",
    "    )\n",
    "    conf_empty = multilabel_confusion_matrix(y_true, y_pred, labels=[EMPTY_CLASS])\n",
    "    rows_empty.append(\n",
    "        [\n",
    "            t,\n",
    "            (conf_empty[0][0, 0] + conf_empty[0][1, 1]) / conf_empty.sum(),\n",
    "            report['empty']['precision'],\n",
    "            report['empty']['recall'],\n",
    "            report['empty']['f1-score'],\n",
    "        ]\n",
    "    )\n",
    "df_ins_multiclass = pd.DataFrame(rows_multiclass, columns=['threshold', 'acc', 'prec', 'rec', 'fone'])\n",
    "df_ins_empty = pd.DataFrame(rows_empty, columns=['threshold', 'acc', 'prec', 'rec', 'fone'])"
   ]
  },
  {
   "cell_type": "code",
   "execution_count": 34,
   "id": "9b1a45a1",
   "metadata": {
    "scrolled": true
   },
   "outputs": [
    {
     "data": {
      "text/html": [
       "<div>\n",
       "<style scoped>\n",
       "    .dataframe tbody tr th:only-of-type {\n",
       "        vertical-align: middle;\n",
       "    }\n",
       "\n",
       "    .dataframe tbody tr th {\n",
       "        vertical-align: top;\n",
       "    }\n",
       "\n",
       "    .dataframe thead th {\n",
       "        text-align: right;\n",
       "    }\n",
       "</style>\n",
       "<table border=\"1\" class=\"dataframe\">\n",
       "  <thead>\n",
       "    <tr style=\"text-align: right;\">\n",
       "      <th></th>\n",
       "      <th>threshold</th>\n",
       "      <th>acc</th>\n",
       "      <th>prec</th>\n",
       "      <th>rec</th>\n",
       "      <th>fone</th>\n",
       "    </tr>\n",
       "  </thead>\n",
       "  <tbody>\n",
       "    <tr>\n",
       "      <th>0</th>\n",
       "      <td>0.25</td>\n",
       "      <td>0.804809</td>\n",
       "      <td>0.790650</td>\n",
       "      <td>0.804809</td>\n",
       "      <td>0.784390</td>\n",
       "    </tr>\n",
       "    <tr>\n",
       "      <th>1</th>\n",
       "      <td>0.50</td>\n",
       "      <td>0.644272</td>\n",
       "      <td>0.740116</td>\n",
       "      <td>0.644272</td>\n",
       "      <td>0.664744</td>\n",
       "    </tr>\n",
       "    <tr>\n",
       "      <th>2</th>\n",
       "      <td>0.90</td>\n",
       "      <td>0.619519</td>\n",
       "      <td>0.599223</td>\n",
       "      <td>0.619519</td>\n",
       "      <td>0.600497</td>\n",
       "    </tr>\n",
       "  </tbody>\n",
       "</table>\n",
       "</div>"
      ],
      "text/plain": [
       "   threshold       acc      prec       rec      fone\n",
       "0       0.25  0.804809  0.790650  0.804809  0.784390\n",
       "1       0.50  0.644272  0.740116  0.644272  0.664744\n",
       "2       0.90  0.619519  0.599223  0.619519  0.600497"
      ]
     },
     "execution_count": 34,
     "metadata": {},
     "output_type": "execute_result"
    }
   ],
   "source": [
    "df_ins_multiclass  # Table 3"
   ]
  },
  {
   "cell_type": "code",
   "execution_count": 35,
   "id": "d74037e5",
   "metadata": {
    "scrolled": true
   },
   "outputs": [
    {
     "data": {
      "text/html": [
       "<div>\n",
       "<style scoped>\n",
       "    .dataframe tbody tr th:only-of-type {\n",
       "        vertical-align: middle;\n",
       "    }\n",
       "\n",
       "    .dataframe tbody tr th {\n",
       "        vertical-align: top;\n",
       "    }\n",
       "\n",
       "    .dataframe thead th {\n",
       "        text-align: right;\n",
       "    }\n",
       "</style>\n",
       "<table border=\"1\" class=\"dataframe\">\n",
       "  <thead>\n",
       "    <tr style=\"text-align: right;\">\n",
       "      <th></th>\n",
       "      <th>threshold</th>\n",
       "      <th>acc</th>\n",
       "      <th>prec</th>\n",
       "      <th>rec</th>\n",
       "      <th>fone</th>\n",
       "    </tr>\n",
       "  </thead>\n",
       "  <tbody>\n",
       "    <tr>\n",
       "      <th>0</th>\n",
       "      <td>0.25</td>\n",
       "      <td>0.930693</td>\n",
       "      <td>0.776786</td>\n",
       "      <td>0.783784</td>\n",
       "      <td>0.780269</td>\n",
       "    </tr>\n",
       "    <tr>\n",
       "      <th>1</th>\n",
       "      <td>0.50</td>\n",
       "      <td>0.892504</td>\n",
       "      <td>0.633588</td>\n",
       "      <td>0.747748</td>\n",
       "      <td>0.685950</td>\n",
       "    </tr>\n",
       "    <tr>\n",
       "      <th>2</th>\n",
       "      <td>0.90</td>\n",
       "      <td>0.900990</td>\n",
       "      <td>0.759494</td>\n",
       "      <td>0.540541</td>\n",
       "      <td>0.631579</td>\n",
       "    </tr>\n",
       "  </tbody>\n",
       "</table>\n",
       "</div>"
      ],
      "text/plain": [
       "   threshold       acc      prec       rec      fone\n",
       "0       0.25  0.930693  0.776786  0.783784  0.780269\n",
       "1       0.50  0.892504  0.633588  0.747748  0.685950\n",
       "2       0.90  0.900990  0.759494  0.540541  0.631579"
      ]
     },
     "execution_count": 35,
     "metadata": {},
     "output_type": "execute_result"
    }
   ],
   "source": [
    "df_ins_empty  # Table 2"
   ]
  },
  {
   "cell_type": "markdown",
   "id": "f684d7c5",
   "metadata": {},
   "source": [
    "## PERFORMANCE"
   ]
  },
  {
   "cell_type": "code",
   "execution_count": 7,
   "id": "efc877ff",
   "metadata": {},
   "outputs": [
    {
     "name": "stdout",
     "output_type": "stream",
     "text": [
      "               precision    recall  f1-score   support\n",
      "\n",
      "        empty       0.87      0.85      0.86       298\n",
      "european_hare       0.88      0.73      0.80        63\n",
      "       others       0.63      0.53      0.57       106\n",
      "     red_deer       0.67      1.00      0.80         2\n",
      "      red_fox       0.82      0.81      0.81       105\n",
      " red_squirrel       0.92      0.92      0.92        36\n",
      "     roe_deer       0.93      0.96      0.95       905\n",
      "    wild_boar       0.82      0.79      0.81        29\n",
      "\n",
      "     accuracy                           0.89      1544\n",
      "    macro avg       0.82      0.82      0.81      1544\n",
      " weighted avg       0.88      0.89      0.88      1544\n",
      "\n"
     ]
    },
    {
     "data": {
      "text/plain": [
       "<sklearn.metrics._plot.confusion_matrix.ConfusionMatrixDisplay at 0x7f770f49e3d0>"
      ]
     },
     "execution_count": 7,
     "metadata": {},
     "output_type": "execute_result"
    },
    {
     "data": {
      "image/png": "[encoded data removed]",
      "text/plain": [
       "<Figure size 432x288 with 1 Axes>"
      ]
     },
     "metadata": {
      "needs_background": "light"
     },
     "output_type": "display_data"
    }
   ],
   "source": [
    "result_ours = RESULTS_INSAMPLE[THRESHOLDS[0]]\n",
    "y_true = result_ours['truth_imgs']\n",
    "y_pred = [np.argmax(v) for v in result_ours['preds_imgs'].values()]\n",
    "report = classification_report(\n",
    "    y_true=y_true, \n",
    "    y_pred=y_pred,\n",
    "    target_names=list(LABEL_MAP.keys())\n",
    ")\n",
    "print(report)  # Figure 3\n",
    "ConfusionMatrixDisplay.from_predictions(y_true=y_true, y_pred=y_pred, **CONFMAT_ARGS)"
   ]
  },
  {
   "cell_type": "markdown",
   "id": "3e11fe27",
   "metadata": {},
   "source": [
    "# OUT-OF-SAMPLE"
   ]
  },
  {
   "cell_type": "markdown",
   "id": "ea2c9861",
   "metadata": {},
   "source": [
    "## PERFORMANCE"
   ]
  },
  {
   "cell_type": "code",
   "execution_count": 8,
   "id": "d3d5112d",
   "metadata": {},
   "outputs": [],
   "source": [
    "RESULTS_OOSAMPLE = load_pickle('results/202302091438_oosample.pickle')"
   ]
  },
  {
   "cell_type": "code",
   "execution_count": 18,
   "id": "cebeeb1f",
   "metadata": {
    "scrolled": true
   },
   "outputs": [],
   "source": [
    "y_true = RESULTS_OOSAMPLE['truth_imgs']\n",
    "y_pred = [np.argmax(v) for v in RESULTS_OOSAMPLE['preds_imgs'].values()]\n",
    "report_dict = classification_report(\n",
    "    y_true=y_true, \n",
    "    y_pred=y_pred,\n",
    "    target_names=list(LABEL_MAP.keys()),\n",
    "    output_dict=True,\n",
    ")\n",
    "rows_oos_multiclass = []\n",
    "rows_oos_multiclass.append(\n",
    "    [\n",
    "        report_dict['accuracy'], \n",
    "        report_dict['weighted avg']['precision'], \n",
    "        report_dict['weighted avg']['recall'], \n",
    "        report_dict['weighted avg']['f1-score']\n",
    "    ]\n",
    ")\n"
   ]
  },
  {
   "cell_type": "code",
   "execution_count": 20,
   "id": "0305fe6a",
   "metadata": {},
   "outputs": [],
   "source": [
    "df_oos_multiclass = pd.DataFrame(\n",
    "    rows_oos_multiclass,\n",
    "    columns=['acc', 'prec', 'rec', 'fone']\n",
    ")\n",
    "df_multiclass = pd.concat([df_ins_multiclass.loc[df_ins_multiclass['threshold'] == OUR_THRESH], df_oos_multiclass])\n",
    "df_multiclass.index = ['ins', 'oos']"
   ]
  },
  {
   "cell_type": "code",
   "execution_count": 21,
   "id": "99b193d6",
   "metadata": {},
   "outputs": [
    {
     "data": {
      "text/html": [
       "<div>\n",
       "<style scoped>\n",
       "    .dataframe tbody tr th:only-of-type {\n",
       "        vertical-align: middle;\n",
       "    }\n",
       "\n",
       "    .dataframe tbody tr th {\n",
       "        vertical-align: top;\n",
       "    }\n",
       "\n",
       "    .dataframe thead th {\n",
       "        text-align: right;\n",
       "    }\n",
       "</style>\n",
       "<table border=\"1\" class=\"dataframe\">\n",
       "  <thead>\n",
       "    <tr style=\"text-align: right;\">\n",
       "      <th></th>\n",
       "      <th>acc</th>\n",
       "      <th>prec</th>\n",
       "      <th>rec</th>\n",
       "      <th>fone</th>\n",
       "    </tr>\n",
       "  </thead>\n",
       "  <tbody>\n",
       "    <tr>\n",
       "      <th>ins</th>\n",
       "      <td>0.887306</td>\n",
       "      <td>0.816202</td>\n",
       "      <td>0.823504</td>\n",
       "      <td>0.814120</td>\n",
       "    </tr>\n",
       "    <tr>\n",
       "      <th>oos</th>\n",
       "      <td>0.773653</td>\n",
       "      <td>0.777712</td>\n",
       "      <td>0.773653</td>\n",
       "      <td>0.767281</td>\n",
       "    </tr>\n",
       "  </tbody>\n",
       "</table>\n",
       "</div>"
      ],
      "text/plain": [
       "          acc      prec       rec      fone\n",
       "ins  0.887306  0.816202  0.823504  0.814120\n",
       "oos  0.773653  0.777712  0.773653  0.767281"
      ]
     },
     "execution_count": 21,
     "metadata": {},
     "output_type": "execute_result"
    }
   ],
   "source": [
    "df_multiclass.drop(['threshold'], axis=1)  # Table 5"
   ]
  },
  {
   "cell_type": "code",
   "execution_count": 12,
   "id": "0def33e8",
   "metadata": {},
   "outputs": [
    {
     "name": "stdout",
     "output_type": "stream",
     "text": [
      "               precision    recall  f1-score   support\n",
      "\n",
      "        empty       0.84      0.65      0.73       334\n",
      "european_hare       0.47      0.44      0.45        39\n",
      "       others       0.38      0.31      0.34       110\n",
      "     red_deer       0.67      0.09      0.16        22\n",
      "      red_fox       0.26      0.47      0.33        19\n",
      " red_squirrel       0.07      1.00      0.13         1\n",
      "     roe_deer       0.82      0.91      0.87      1028\n",
      "    wild_boar       0.79      0.63      0.70       117\n",
      "\n",
      "     accuracy                           0.77      1670\n",
      "    macro avg       0.54      0.56      0.46      1670\n",
      " weighted avg       0.78      0.77      0.77      1670\n",
      "\n"
     ]
    },
    {
     "data": {
      "text/plain": [
       "<sklearn.metrics._plot.confusion_matrix.ConfusionMatrixDisplay at 0x7f770f49e130>"
      ]
     },
     "execution_count": 12,
     "metadata": {},
     "output_type": "execute_result"
    },
    {
     "data": {
      "image/png": "[encoded data removed]",
      "text/plain": [
       "<Figure size 432x288 with 1 Axes>"
      ]
     },
     "metadata": {
      "needs_background": "light"
     },
     "output_type": "display_data"
    }
   ],
   "source": [
    "print(  # Figure 5\n",
    "    classification_report(\n",
    "        y_true=y_true, \n",
    "        y_pred=y_pred,\n",
    "        target_names=list(LABEL_MAP.keys())\n",
    "    )\n",
    "\n",
    ") \n",
    "ConfusionMatrixDisplay.from_predictions(y_true=y_true, y_pred=y_pred, **CONFMAT_ARGS)"
   ]
  },
  {
   "cell_type": "markdown",
   "id": "e0df1f9e",
   "metadata": {},
   "source": [
    "## ACTIVE LEARNING"
   ]
  },
  {
   "cell_type": "code",
   "execution_count": 13,
   "id": "f17ffe18",
   "metadata": {},
   "outputs": [],
   "source": [
    "# eval_upper_perf_limit = load_pickle(\n",
    "#     'results/202212011038_results_oosample_active_optimal.json'\n",
    "# )\n",
    "# eval_al_coldstart = load_pickle('results/202212041731_eval_logfile_coldstart.json')\n",
    "# eval_al_warmstart = load_pickle('results/202212080940_eval_logfile_warmstart.json')\n",
    "# # compute relative sample size per iteration\n",
    "# # (sizes hard-coded for training)\n",
    "# n_samples_total = len(load_pickle('data/dataset_oos_trainval.pkl').keys)\n",
    "# num_max_batches = (\n",
    "#     (n_samples_total - (5 * 128 + 5 * 256 + 5 * 512)) // 1024\n",
    "# )\n",
    "# size_last_batch = (\n",
    "#     n_samples_total - (5 * 128 + 5 * 256 + 5 * 512 + num_max_batches * 1024)\n",
    "# )\n",
    "# batch_sizes = (\n",
    "#     5 * [128] + 5 * [256] + 5 * [512] + num_max_batches * [1024]\n",
    "# )\n",
    "# if size_last_batch > 0:\n",
    "#     batch_sizes.append(size_last_batch)\n",
    "# batch_sizes_cs = np.cumsum([x / n_samples_total for x in batch_sizes])\n",
    "# # inspect upper performance limit\n",
    "# df_pred_upper_perf_limit = rf.build_df_pred(eval_upper_perf_limit, label_dict, detector_dict, image_data_dir)\n",
    "# df_pred_upper_perf_limit = rf.labelize_df_pred(df_pred_upper_perf_limit, label_map)\n",
    "# df_pred_upper_perf_limit = pd.merge(df_pred_upper_perf_limit, df_meta, on=['img_name', 'true_class'], how='inner')\n",
    "# report_upper_perf_limit = classification_report(\n",
    "#     y_true=df_pred_upper_perf_limit['true_class'],\n",
    "#     y_pred=df_pred_upper_perf_limit['pred_class'],\n",
    "#     labels=labels,\n",
    "#     zero_division=0,\n",
    "#     output_dict=False,\n",
    "# )\n",
    "# print(report_upper_perf_limit)\n",
    "\n",
    "# rf.inspect_confusion(\n",
    "#     df_pred=df_pred_upper_perf_limit,\n",
    "#     normalize=True,\n",
    "#     labels=labels,\n",
    "#     ax=None,\n",
    "# )\n",
    "# report_upper_perf_limit_dict = classification_report(\n",
    "#     y_true=df_pred_upper_perf_limit['true_class'],\n",
    "#     y_pred=df_pred_upper_perf_limit['pred_class'],\n",
    "#     labels=labels,\n",
    "#     zero_division=0,\n",
    "#     output_dict=True,\n",
    "# )\n",
    "# print(report_upper_perf_limit_dict)\n",
    "# # compute metrics per iteration\n",
    "\n",
    "# acc_coldstart = []\n",
    "# rec_coldstart = []\n",
    "# acc_warmstart = []\n",
    "# rec_warmstart = []\n",
    "\n",
    "# for iteration in eval_al_coldstart.keys():\n",
    "#     df_cs = rf.build_df_pred(eval_al_coldstart[iteration], label_dict, detector_dict, image_data_dir)\n",
    "#     df_cs = rf.labelize_df_pred(df_cs, label_map)\n",
    "#     df_cs = pd.merge(df_cs, df_meta, on=['img_name', 'true_class'], how='inner')\n",
    "#     report_cs = classification_report(\n",
    "#         y_true=df_cs['true_class'],\n",
    "#         y_pred=df_cs['pred_class'],\n",
    "#         labels=labels,\n",
    "#         zero_division=0,\n",
    "#         output_dict=True,\n",
    "#     )\n",
    "#     df_ws = rf.build_df_pred(eval_al_warmstart[iteration], label_dict, detector_dict, image_data_dir)\n",
    "#     df_ws = rf.labelize_df_pred(df_ws, label_map)\n",
    "#     df_ws = pd.merge(df_ws, df_meta, on=['img_name', 'true_class'], how='inner')\n",
    "#     report_ws = classification_report(\n",
    "#         y_true=df_ws['true_class'],\n",
    "#         y_pred=df_ws['pred_class'],\n",
    "#         labels=labels,\n",
    "#         zero_division=0,\n",
    "#         output_dict=True,\n",
    "#     )\n",
    "#     acc_coldstart.append(report_cs['accuracy'])\n",
    "#     rec_coldstart.append(report_cs['weighted avg']['recall'])\n",
    "#     acc_warmstart.append(report_ws['accuracy'])\n",
    "#     rec_warmstart.append(report_ws['weighted avg']['recall'])\n",
    "\n",
    "# # create data for plot\n",
    "# al_perf_acc = {\n",
    "#     'relative_size': batch_sizes_cs[1:],\n",
    "#     'acc_lower_limit': [report_lower_perf_limit_dict['accuracy'] for _ in range(len(acc_coldstart))],\n",
    "#     'acc_upper_limit': [report_upper_perf_limit_dict['accuracy'] for _ in range(len(acc_coldstart))],\n",
    "#     'acc_coldstart': acc_coldstart,\n",
    "#     'acc_warmstart': acc_warmstart\n",
    "# }\n",
    "# al_perf_acc_pd = pd.DataFrame(al_perf_acc)\n",
    "# al_perf_rec = {\n",
    "#     'relative_size': batch_sizes_cs[1:],\n",
    "#     'rec_lower_limit': [report_lower_perf_limit_dict['weighted avg']['recall'] for _ in range(len(acc_coldstart))],\n",
    "#     'rec_upper_limit': [report_upper_perf_limit_dict['weighted avg']['recall'] for _ in range(len(acc_coldstart))],\n",
    "#     'rec_coldstart': rec_coldstart,\n",
    "#     'rec_warmstart': rec_warmstart\n",
    "# }\n",
    "# al_perf_acc_pd = pd.DataFrame(al_perf_acc)\n",
    "# al_perf_rec_pd = pd.DataFrame(al_perf_rec)\n",
    "# plt = sns.lineplot(\n",
    "#     data=pd.melt(al_perf_acc_pd, id_vars='relative_size'),\n",
    "#     x='relative_size',\n",
    "#     y='value',\n",
    "#     hue='variable',\n",
    "#     style='variable'\n",
    "# )\n",
    "# plt.set(xlabel='relative sample size', ylabel='accuracy')\n",
    "# plt.legend(\n",
    "#     title='training mode', \n",
    "#     loc='lower right', \n",
    "#     labels=['lower baseline', 'upper baseline', 'cold start', 'warm start']\n",
    "# )\n",
    "# plt.figure.savefig('oos_active.eps')"
   ]
  }
 ],
 "metadata": {
  "kernelspec": {
   "display_name": "Python 3 (ipykernel)",
   "language": "python",
   "name": "python3"
  },
  "language_info": {
   "codemirror_mode": {
    "name": "ipython",
    "version": 3
   },
   "file_extension": ".py",
   "mimetype": "text/x-python",
   "name": "python",
   "nbconvert_exporter": "python",
   "pygments_lexer": "ipython3",
   "version": "3.9.13"
  }
 },
 "nbformat": 4,
 "nbformat_minor": 5
}
