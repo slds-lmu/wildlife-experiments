{
 "cells": [
  {
   "cell_type": "markdown",
   "id": "74979aa8",
   "metadata": {},
   "source": [
    "# PREP"
   ]
  },
  {
   "cell_type": "code",
   "execution_count": 36,
   "id": "efda79cc",
   "metadata": {},
   "outputs": [],
   "source": [
    "import os\n",
    "import numpy as np\n",
    "import pandas as pd\n",
    "import matplotlib.pyplot as plt\n",
    "from sklearn.metrics import (\n",
    "    classification_report, \n",
    "    confusion_matrix, \n",
    "    multilabel_confusion_matrix,\n",
    "    ConfusionMatrixDisplay, \n",
    "    accuracy_score\n",
    ")\n",
    "from wildlifeml.utils.io import (\n",
    "    load_csv, \n",
    "    load_json, \n",
    "    load_pickle,\n",
    ")"
   ]
  },
  {
   "cell_type": "code",
   "execution_count": 37,
   "id": "aa570de4",
   "metadata": {
    "scrolled": true
   },
   "outputs": [],
   "source": [
    "# REPODIR = '/home/lisa-wm/Documents/1_work/1_research/repos/wildlife-experiments'\n",
    "REPODIR = '/home/wimmerl/projects/wildlife-experiments'\n",
    "\n",
    "CFG = load_json(os.path.join(REPODIR, 'configs/cfg.json'))\n",
    "LABEL_MAP = load_json(os.path.join(REPODIR, 'data/label_map.json'))\n",
    "EMPTY_CLASS = LABEL_MAP['empty']\n",
    "CONFMAT_ARGS = {\n",
    "    'normalize': 'true',\n",
    "    'values_format': '.2f',\n",
    "    'display_labels': list(LABEL_MAP.keys()),\n",
    "    'xticks_rotation': 'vertical',\n",
    "    'colorbar': False,\n",
    "    'cmap': 'Blues',\n",
    "}"
   ]
  },
  {
   "cell_type": "markdown",
   "id": "9b2ae8cf",
   "metadata": {},
   "source": [
    "# IN-SAMPLE"
   ]
  },
  {
   "cell_type": "code",
   "execution_count": 63,
   "id": "06d66336",
   "metadata": {
    "scrolled": true
   },
   "outputs": [],
   "source": [
    "RESULTS_INSAMPLE_TEST = load_pickle('results/202302101741_insample_test.pkl')\n",
    "RESULTS_INSAMPLE_VAL = load_pickle('results/202302101741_insample_val.pkl')\n",
    "THRESHOLDS = list(RESULTS_INSAMPLE_TEST.keys())\n",
    "OUR_THRESH = 0.25"
   ]
  },
  {
   "cell_type": "markdown",
   "id": "b09249b7",
   "metadata": {},
   "source": [
    "## PERFORMANCE ACROSS THRESHOLDS ON TEST\n",
    "\n",
    "Using varying thresholds for the MD, how well is our pipeline able to 1) classify images overall, 2) detect empty images correctly?"
   ]
  },
  {
   "cell_type": "code",
   "execution_count": 65,
   "id": "3ae3ad2e",
   "metadata": {
    "scrolled": false
   },
   "outputs": [],
   "source": [
    "rows_multiclass = []\n",
    "rows_empty = []\n",
    "\n",
    "for t in THRESHOLDS:\n",
    "    result = RESULTS_INSAMPLE_TEST[t]\n",
    "    y_true = result['truth_imgs_ppl']\n",
    "    y_pred = [np.argmax(v) for v in result['preds_imgs_ppl'].values()]\n",
    "    report = classification_report(\n",
    "        y_true=y_true, \n",
    "        y_pred=y_pred,\n",
    "        target_names=list(LABEL_MAP.keys()),\n",
    "        zero_division=0,\n",
    "        output_dict=True,\n",
    "    )\n",
    "    rows_multiclass.append(\n",
    "        [\n",
    "            t,\n",
    "            report['accuracy'], \n",
    "            report['weighted avg']['precision'], \n",
    "            report['weighted avg']['recall'], \n",
    "            report['weighted avg']['f1-score']\n",
    "        ]    \n",
    "    )\n",
    "    conf_empty = multilabel_confusion_matrix(y_true, y_pred, labels=[EMPTY_CLASS])\n",
    "    rows_empty.append(\n",
    "        [\n",
    "            t,\n",
    "            (conf_empty[0][0, 0] + conf_empty[0][1, 1]) / conf_empty.sum(),\n",
    "            report['empty']['precision'],\n",
    "            report['empty']['recall'],\n",
    "            report['empty']['f1-score'],\n",
    "        ]\n",
    "    )\n",
    "df_ins_multiclass = pd.DataFrame(rows_multiclass, columns=['threshold', 'acc', 'prec', 'rec', 'fone'])\n",
    "df_ins_empty = pd.DataFrame(rows_empty, columns=['threshold', 'acc', 'prec', 'rec', 'fone'])"
   ]
  },
  {
   "cell_type": "code",
   "execution_count": 66,
   "id": "76e0f03c",
   "metadata": {
    "scrolled": true
   },
   "outputs": [
    {
     "data": {
      "text/html": [
       "<div>\n",
       "<style scoped>\n",
       "    .dataframe tbody tr th:only-of-type {\n",
       "        vertical-align: middle;\n",
       "    }\n",
       "\n",
       "    .dataframe tbody tr th {\n",
       "        vertical-align: top;\n",
       "    }\n",
       "\n",
       "    .dataframe thead th {\n",
       "        text-align: right;\n",
       "    }\n",
       "</style>\n",
       "<table border=\"1\" class=\"dataframe\">\n",
       "  <thead>\n",
       "    <tr style=\"text-align: right;\">\n",
       "      <th></th>\n",
       "      <th>threshold</th>\n",
       "      <th>acc</th>\n",
       "      <th>prec</th>\n",
       "      <th>rec</th>\n",
       "      <th>fone</th>\n",
       "    </tr>\n",
       "  </thead>\n",
       "  <tbody>\n",
       "    <tr>\n",
       "      <th>0</th>\n",
       "      <td>0.25</td>\n",
       "      <td>0.882772</td>\n",
       "      <td>0.880573</td>\n",
       "      <td>0.882772</td>\n",
       "      <td>0.880646</td>\n",
       "    </tr>\n",
       "    <tr>\n",
       "      <th>1</th>\n",
       "      <td>0.50</td>\n",
       "      <td>0.817358</td>\n",
       "      <td>0.789028</td>\n",
       "      <td>0.817358</td>\n",
       "      <td>0.794338</td>\n",
       "    </tr>\n",
       "    <tr>\n",
       "      <th>2</th>\n",
       "      <td>0.90</td>\n",
       "      <td>0.185881</td>\n",
       "      <td>0.284956</td>\n",
       "      <td>0.185881</td>\n",
       "      <td>0.089986</td>\n",
       "    </tr>\n",
       "  </tbody>\n",
       "</table>\n",
       "</div>"
      ],
      "text/plain": [
       "   threshold       acc      prec       rec      fone\n",
       "0       0.25  0.882772  0.880573  0.882772  0.880646\n",
       "1       0.50  0.817358  0.789028  0.817358  0.794338\n",
       "2       0.90  0.185881  0.284956  0.185881  0.089986"
      ]
     },
     "execution_count": 66,
     "metadata": {},
     "output_type": "execute_result"
    }
   ],
   "source": [
    "df_ins_multiclass  # Table 3"
   ]
  },
  {
   "cell_type": "code",
   "execution_count": 67,
   "id": "e84bdf01",
   "metadata": {
    "scrolled": true
   },
   "outputs": [
    {
     "data": {
      "text/html": [
       "<div>\n",
       "<style scoped>\n",
       "    .dataframe tbody tr th:only-of-type {\n",
       "        vertical-align: middle;\n",
       "    }\n",
       "\n",
       "    .dataframe tbody tr th {\n",
       "        vertical-align: top;\n",
       "    }\n",
       "\n",
       "    .dataframe thead th {\n",
       "        text-align: right;\n",
       "    }\n",
       "</style>\n",
       "<table border=\"1\" class=\"dataframe\">\n",
       "  <thead>\n",
       "    <tr style=\"text-align: right;\">\n",
       "      <th></th>\n",
       "      <th>threshold</th>\n",
       "      <th>acc</th>\n",
       "      <th>prec</th>\n",
       "      <th>rec</th>\n",
       "      <th>fone</th>\n",
       "    </tr>\n",
       "  </thead>\n",
       "  <tbody>\n",
       "    <tr>\n",
       "      <th>0</th>\n",
       "      <td>0.25</td>\n",
       "      <td>0.943005</td>\n",
       "      <td>0.875000</td>\n",
       "      <td>0.822148</td>\n",
       "      <td>0.847751</td>\n",
       "    </tr>\n",
       "    <tr>\n",
       "      <th>1</th>\n",
       "      <td>0.50</td>\n",
       "      <td>0.931347</td>\n",
       "      <td>0.789157</td>\n",
       "      <td>0.879195</td>\n",
       "      <td>0.831746</td>\n",
       "    </tr>\n",
       "    <tr>\n",
       "      <th>2</th>\n",
       "      <td>0.90</td>\n",
       "      <td>0.490285</td>\n",
       "      <td>0.263768</td>\n",
       "      <td>0.916107</td>\n",
       "      <td>0.409602</td>\n",
       "    </tr>\n",
       "  </tbody>\n",
       "</table>\n",
       "</div>"
      ],
      "text/plain": [
       "   threshold       acc      prec       rec      fone\n",
       "0       0.25  0.943005  0.875000  0.822148  0.847751\n",
       "1       0.50  0.931347  0.789157  0.879195  0.831746\n",
       "2       0.90  0.490285  0.263768  0.916107  0.409602"
      ]
     },
     "execution_count": 67,
     "metadata": {},
     "output_type": "execute_result"
    }
   ],
   "source": [
    "df_ins_empty  # Table 2"
   ]
  },
  {
   "cell_type": "markdown",
   "id": "f684d7c5",
   "metadata": {},
   "source": [
    "## PERFORMANCE"
   ]
  },
  {
   "cell_type": "code",
   "execution_count": 68,
   "id": "efc877ff",
   "metadata": {},
   "outputs": [
    {
     "name": "stdout",
     "output_type": "stream",
     "text": [
      "               precision    recall  f1-score   support\n",
      "\n",
      "        empty       0.88      0.82      0.85       298\n",
      "european_hare       0.81      0.79      0.80        63\n",
      "       others       0.61      0.54      0.57       106\n",
      "     red_deer       0.40      1.00      0.57         2\n",
      "      red_fox       0.90      0.79      0.84       105\n",
      " red_squirrel       0.92      0.94      0.93        36\n",
      "     roe_deer       0.92      0.96      0.94       905\n",
      "    wild_boar       0.85      0.79      0.82        29\n",
      "\n",
      "     accuracy                           0.88      1544\n",
      "    macro avg       0.78      0.83      0.79      1544\n",
      " weighted avg       0.88      0.88      0.88      1544\n",
      "\n"
     ]
    },
    {
     "data": {
      "text/plain": [
       "<sklearn.metrics._plot.confusion_matrix.ConfusionMatrixDisplay at 0x7f76ee6ef8e0>"
      ]
     },
     "execution_count": 68,
     "metadata": {},
     "output_type": "execute_result"
    },
    {
     "data": {
      "image/png": "[encoded data removed]",
      "text/plain": [
       "<Figure size 432x288 with 1 Axes>"
      ]
     },
     "metadata": {
      "needs_background": "light"
     },
     "output_type": "display_data"
    }
   ],
   "source": [
    "result_ours = RESULTS_INSAMPLE_TEST[THRESHOLDS[0]]\n",
    "y_true = result_ours['truth_imgs_ppl']\n",
    "y_pred = [np.argmax(v) for v in result_ours['preds_imgs_ppl'].values()]\n",
    "report = classification_report(\n",
    "    y_true=y_true, \n",
    "    y_pred=y_pred,\n",
    "    target_names=list(LABEL_MAP.keys())\n",
    ")\n",
    "print(report)  # Figure 3\n",
    "ConfusionMatrixDisplay.from_predictions(y_true=y_true, y_pred=y_pred, **CONFMAT_ARGS)"
   ]
  },
  {
   "cell_type": "markdown",
   "id": "3e11fe27",
   "metadata": {},
   "source": [
    "# OUT-OF-SAMPLE"
   ]
  },
  {
   "cell_type": "markdown",
   "id": "ea2c9861",
   "metadata": {},
   "source": [
    "## PERFORMANCE"
   ]
  },
  {
   "cell_type": "code",
   "execution_count": 69,
   "id": "d3d5112d",
   "metadata": {},
   "outputs": [],
   "source": [
    "RESULTS_OOSAMPLE = load_pickle('results/202302101741_oosample.pkl')"
   ]
  },
  {
   "cell_type": "code",
   "execution_count": 70,
   "id": "cebeeb1f",
   "metadata": {
    "scrolled": true
   },
   "outputs": [],
   "source": [
    "y_true = RESULTS_OOSAMPLE['truth_imgs_ppl']\n",
    "y_pred = [np.argmax(v) for v in RESULTS_OOSAMPLE['preds_imgs_ppl'].values()]\n",
    "report_dict = classification_report(\n",
    "    y_true=y_true, \n",
    "    y_pred=y_pred,\n",
    "    target_names=list(LABEL_MAP.keys()),\n",
    "    output_dict=True,\n",
    ")\n",
    "rows_oos_multiclass = []\n",
    "rows_oos_multiclass.append(\n",
    "    [\n",
    "        report_dict['accuracy'], \n",
    "        report_dict['weighted avg']['precision'], \n",
    "        report_dict['weighted avg']['recall'], \n",
    "        report_dict['weighted avg']['f1-score']\n",
    "    ]\n",
    ")\n"
   ]
  },
  {
   "cell_type": "code",
   "execution_count": 71,
   "id": "0305fe6a",
   "metadata": {},
   "outputs": [],
   "source": [
    "df_oos_multiclass = pd.DataFrame(\n",
    "    rows_oos_multiclass,\n",
    "    columns=['acc', 'prec', 'rec', 'fone']\n",
    ")\n",
    "df_multiclass = pd.concat([df_ins_multiclass.loc[df_ins_multiclass['threshold'] == OUR_THRESH], df_oos_multiclass])\n",
    "df_multiclass.index = ['ins', 'oos']"
   ]
  },
  {
   "cell_type": "code",
   "execution_count": 72,
   "id": "99b193d6",
   "metadata": {},
   "outputs": [
    {
     "data": {
      "text/html": [
       "<div>\n",
       "<style scoped>\n",
       "    .dataframe tbody tr th:only-of-type {\n",
       "        vertical-align: middle;\n",
       "    }\n",
       "\n",
       "    .dataframe tbody tr th {\n",
       "        vertical-align: top;\n",
       "    }\n",
       "\n",
       "    .dataframe thead th {\n",
       "        text-align: right;\n",
       "    }\n",
       "</style>\n",
       "<table border=\"1\" class=\"dataframe\">\n",
       "  <thead>\n",
       "    <tr style=\"text-align: right;\">\n",
       "      <th></th>\n",
       "      <th>acc</th>\n",
       "      <th>prec</th>\n",
       "      <th>rec</th>\n",
       "      <th>fone</th>\n",
       "    </tr>\n",
       "  </thead>\n",
       "  <tbody>\n",
       "    <tr>\n",
       "      <th>ins</th>\n",
       "      <td>0.882772</td>\n",
       "      <td>0.880573</td>\n",
       "      <td>0.882772</td>\n",
       "      <td>0.880646</td>\n",
       "    </tr>\n",
       "    <tr>\n",
       "      <th>oos</th>\n",
       "      <td>0.783832</td>\n",
       "      <td>0.788228</td>\n",
       "      <td>0.783832</td>\n",
       "      <td>0.777865</td>\n",
       "    </tr>\n",
       "  </tbody>\n",
       "</table>\n",
       "</div>"
      ],
      "text/plain": [
       "          acc      prec       rec      fone\n",
       "ins  0.882772  0.880573  0.882772  0.880646\n",
       "oos  0.783832  0.788228  0.783832  0.777865"
      ]
     },
     "execution_count": 72,
     "metadata": {},
     "output_type": "execute_result"
    }
   ],
   "source": [
    "df_multiclass.drop(['threshold'], axis=1)  # Table 5"
   ]
  },
  {
   "cell_type": "code",
   "execution_count": 73,
   "id": "0def33e8",
   "metadata": {},
   "outputs": [
    {
     "name": "stdout",
     "output_type": "stream",
     "text": [
      "               precision    recall  f1-score   support\n",
      "\n",
      "        empty       0.86      0.68      0.76       334\n",
      "european_hare       0.53      0.44      0.48        39\n",
      "       others       0.35      0.30      0.32       110\n",
      "     red_deer       0.75      0.14      0.23        22\n",
      "      red_fox       0.21      0.37      0.27        19\n",
      " red_squirrel       0.00      0.00      0.00         1\n",
      "     roe_deer       0.82      0.92      0.87      1028\n",
      "    wild_boar       0.87      0.65      0.75       117\n",
      "\n",
      "     accuracy                           0.78      1670\n",
      "    macro avg       0.55      0.44      0.46      1670\n",
      " weighted avg       0.79      0.78      0.78      1670\n",
      "\n"
     ]
    },
    {
     "data": {
      "text/plain": [
       "<sklearn.metrics._plot.confusion_matrix.ConfusionMatrixDisplay at 0x7f76eeff2460>"
      ]
     },
     "execution_count": 73,
     "metadata": {},
     "output_type": "execute_result"
    },
    {
     "data": {
      "image/png": "[encoded data removed]",
      "text/plain": [
       "<Figure size 432x288 with 1 Axes>"
      ]
     },
     "metadata": {
      "needs_background": "light"
     },
     "output_type": "display_data"
    }
   ],
   "source": [
    "print(  # Figure 5\n",
    "    classification_report(\n",
    "        y_true=y_true, \n",
    "        y_pred=y_pred,\n",
    "        target_names=list(LABEL_MAP.keys())\n",
    "    )\n",
    "\n",
    ") \n",
    "ConfusionMatrixDisplay.from_predictions(y_true=y_true, y_pred=y_pred, **CONFMAT_ARGS)"
   ]
  },
  {
   "cell_type": "markdown",
   "id": "e0df1f9e",
   "metadata": {},
   "source": [
    "## ACTIVE LEARNING"
   ]
  },
  {
   "cell_type": "code",
   "execution_count": null,
   "id": "9dc5aa7f",
   "metadata": {},
   "outputs": [],
   "source": [
    "RESULTS_ACTIVE_UPPER_BASELINE = load_pickle("
   ]
  },
  {
   "cell_type": "code",
   "execution_count": 13,
   "id": "f17ffe18",
   "metadata": {},
   "outputs": [],
   "source": [
    "# eval_upper_perf_limit = load_pickle(\n",
    "#     'results/202212011038_results_oosample_active_optimal.json'\n",
    "# )\n",
    "# eval_al_coldstart = load_pickle('results/202212041731_eval_logfile_coldstart.json')\n",
    "# eval_al_warmstart = load_pickle('results/202212080940_eval_logfile_warmstart.json')\n",
    "# # compute relative sample size per iteration\n",
    "# # (sizes hard-coded for training)\n",
    "# n_samples_total = len(load_pickle('data/dataset_oos_trainval.pkl').keys)\n",
    "# num_max_batches = (\n",
    "#     (n_samples_total - (5 * 128 + 5 * 256 + 5 * 512)) // 1024\n",
    "# )\n",
    "# size_last_batch = (\n",
    "#     n_samples_total - (5 * 128 + 5 * 256 + 5 * 512 + num_max_batches * 1024)\n",
    "# )\n",
    "# batch_sizes = (\n",
    "#     5 * [128] + 5 * [256] + 5 * [512] + num_max_batches * [1024]\n",
    "# )\n",
    "# if size_last_batch > 0:\n",
    "#     batch_sizes.append(size_last_batch)\n",
    "# batch_sizes_cs = np.cumsum([x / n_samples_total for x in batch_sizes])\n",
    "# # inspect upper performance limit\n",
    "# df_pred_upper_perf_limit = rf.build_df_pred(eval_upper_perf_limit, label_dict, detector_dict, image_data_dir)\n",
    "# df_pred_upper_perf_limit = rf.labelize_df_pred(df_pred_upper_perf_limit, label_map)\n",
    "# df_pred_upper_perf_limit = pd.merge(df_pred_upper_perf_limit, df_meta, on=['img_name', 'true_class'], how='inner')\n",
    "# report_upper_perf_limit = classification_report(\n",
    "#     y_true=df_pred_upper_perf_limit['true_class'],\n",
    "#     y_pred=df_pred_upper_perf_limit['pred_class'],\n",
    "#     labels=labels,\n",
    "#     zero_division=0,\n",
    "#     output_dict=False,\n",
    "# )\n",
    "# print(report_upper_perf_limit)\n",
    "\n",
    "# rf.inspect_confusion(\n",
    "#     df_pred=df_pred_upper_perf_limit,\n",
    "#     normalize=True,\n",
    "#     labels=labels,\n",
    "#     ax=None,\n",
    "# )\n",
    "# report_upper_perf_limit_dict = classification_report(\n",
    "#     y_true=df_pred_upper_perf_limit['true_class'],\n",
    "#     y_pred=df_pred_upper_perf_limit['pred_class'],\n",
    "#     labels=labels,\n",
    "#     zero_division=0,\n",
    "#     output_dict=True,\n",
    "# )\n",
    "# print(report_upper_perf_limit_dict)\n",
    "# # compute metrics per iteration\n",
    "\n",
    "# acc_coldstart = []\n",
    "# rec_coldstart = []\n",
    "# acc_warmstart = []\n",
    "# rec_warmstart = []\n",
    "\n",
    "# for iteration in eval_al_coldstart.keys():\n",
    "#     df_cs = rf.build_df_pred(eval_al_coldstart[iteration], label_dict, detector_dict, image_data_dir)\n",
    "#     df_cs = rf.labelize_df_pred(df_cs, label_map)\n",
    "#     df_cs = pd.merge(df_cs, df_meta, on=['img_name', 'true_class'], how='inner')\n",
    "#     report_cs = classification_report(\n",
    "#         y_true=df_cs['true_class'],\n",
    "#         y_pred=df_cs['pred_class'],\n",
    "#         labels=labels,\n",
    "#         zero_division=0,\n",
    "#         output_dict=True,\n",
    "#     )\n",
    "#     df_ws = rf.build_df_pred(eval_al_warmstart[iteration], label_dict, detector_dict, image_data_dir)\n",
    "#     df_ws = rf.labelize_df_pred(df_ws, label_map)\n",
    "#     df_ws = pd.merge(df_ws, df_meta, on=['img_name', 'true_class'], how='inner')\n",
    "#     report_ws = classification_report(\n",
    "#         y_true=df_ws['true_class'],\n",
    "#         y_pred=df_ws['pred_class'],\n",
    "#         labels=labels,\n",
    "#         zero_division=0,\n",
    "#         output_dict=True,\n",
    "#     )\n",
    "#     acc_coldstart.append(report_cs['accuracy'])\n",
    "#     rec_coldstart.append(report_cs['weighted avg']['recall'])\n",
    "#     acc_warmstart.append(report_ws['accuracy'])\n",
    "#     rec_warmstart.append(report_ws['weighted avg']['recall'])\n",
    "\n",
    "# # create data for plot\n",
    "# al_perf_acc = {\n",
    "#     'relative_size': batch_sizes_cs[1:],\n",
    "#     'acc_lower_limit': [report_lower_perf_limit_dict['accuracy'] for _ in range(len(acc_coldstart))],\n",
    "#     'acc_upper_limit': [report_upper_perf_limit_dict['accuracy'] for _ in range(len(acc_coldstart))],\n",
    "#     'acc_coldstart': acc_coldstart,\n",
    "#     'acc_warmstart': acc_warmstart\n",
    "# }\n",
    "# al_perf_acc_pd = pd.DataFrame(al_perf_acc)\n",
    "# al_perf_rec = {\n",
    "#     'relative_size': batch_sizes_cs[1:],\n",
    "#     'rec_lower_limit': [report_lower_perf_limit_dict['weighted avg']['recall'] for _ in range(len(acc_coldstart))],\n",
    "#     'rec_upper_limit': [report_upper_perf_limit_dict['weighted avg']['recall'] for _ in range(len(acc_coldstart))],\n",
    "#     'rec_coldstart': rec_coldstart,\n",
    "#     'rec_warmstart': rec_warmstart\n",
    "# }\n",
    "# al_perf_acc_pd = pd.DataFrame(al_perf_acc)\n",
    "# al_perf_rec_pd = pd.DataFrame(al_perf_rec)\n",
    "# plt = sns.lineplot(\n",
    "#     data=pd.melt(al_perf_acc_pd, id_vars='relative_size'),\n",
    "#     x='relative_size',\n",
    "#     y='value',\n",
    "#     hue='variable',\n",
    "#     style='variable'\n",
    "# )\n",
    "# plt.set(xlabel='relative sample size', ylabel='accuracy')\n",
    "# plt.legend(\n",
    "#     title='training mode', \n",
    "#     loc='lower right', \n",
    "#     labels=['lower baseline', 'upper baseline', 'cold start', 'warm start']\n",
    "# )\n",
    "# plt.figure.savefig('oos_active.eps')"
   ]
  }
 ],
 "metadata": {
  "kernelspec": {
   "display_name": "Python 3 (ipykernel)",
   "language": "python",
   "name": "python3"
  },
  "language_info": {
   "codemirror_mode": {
    "name": "ipython",
    "version": 3
   },
   "file_extension": ".py",
   "mimetype": "text/x-python",
   "name": "python",
   "nbconvert_exporter": "python",
   "pygments_lexer": "ipython3",
   "version": "3.9.13"
  }
 },
 "nbformat": 4,
 "nbformat_minor": 5
}
