{
 "cells": [
  {
   "cell_type": "markdown",
   "id": "74979aa8",
   "metadata": {},
   "source": [
    "# PREP"
   ]
  },
  {
   "cell_type": "code",
   "execution_count": 1,
   "id": "efda79cc",
   "metadata": {},
   "outputs": [
    {
     "name": "stderr",
     "output_type": "stream",
     "text": [
      "2023-03-15 08:05:57.887296: W tensorflow/stream_executor/platform/default/dso_loader.cc:64] Could not load dynamic library 'libcudart.so.11.0'; dlerror: libcudart.so.11.0: cannot open shared object file: No such file or directory; LD_LIBRARY_PATH: /home/lisa-wm/miniconda2/envs/wildlife/lib/python3.10/site-packages/cv2/../../lib64:\n",
      "2023-03-15 08:05:57.887312: I tensorflow/stream_executor/cuda/cudart_stub.cc:29] Ignore above cudart dlerror if you do not have a GPU set up on your machine.\n",
      "2023-03-15 08:05:59.135062: W tensorflow/stream_executor/platform/default/dso_loader.cc:64] Could not load dynamic library 'libcuda.so.1'; dlerror: libcuda.so.1: cannot open shared object file: No such file or directory; LD_LIBRARY_PATH: /home/lisa-wm/miniconda2/envs/wildlife/lib/python3.10/site-packages/cv2/../../lib64:\n",
      "2023-03-15 08:05:59.135079: W tensorflow/stream_executor/cuda/cuda_driver.cc:269] failed call to cuInit: UNKNOWN ERROR (303)\n",
      "2023-03-15 08:05:59.135094: I tensorflow/stream_executor/cuda/cuda_diagnostics.cc:156] kernel driver does not appear to be running on this host (lisa-wm): /proc/driver/nvidia/version does not exist\n"
     ]
    }
   ],
   "source": [
    "import os\n",
    "import numpy as np\n",
    "import pandas as pd\n",
    "from functools import reduce\n",
    "from collections import OrderedDict\n",
    "import matplotlib.pyplot as plt\n",
    "from sklearn.metrics import (\n",
    "    classification_report, \n",
    "    confusion_matrix, \n",
    "    multilabel_confusion_matrix,\n",
    "    ConfusionMatrixDisplay, \n",
    "    accuracy_score\n",
    ")\n",
    "from wildlifeml.utils.io import (\n",
    "    load_csv, \n",
    "    load_json, \n",
    "    load_pickle,\n",
    ")"
   ]
  },
  {
   "cell_type": "code",
   "execution_count": 3,
   "id": "aa570de4",
   "metadata": {
    "scrolled": true
   },
   "outputs": [],
   "source": [
    "REPODIR = '/home/lisa-wm/Documents/1_work/1_research/repos/wildlife-experiments'\n",
    "RESULTDIR = os.path.join(REPODIR, 'results')\n",
    "# REPODIR = '/home/wimmerl/projects/wildlife-experiments'\n",
    "\n",
    "CFG = load_json(os.path.join(REPODIR, 'configs/cfg.json'))\n",
    "LABEL_MAP = load_json(os.path.join(REPODIR, 'data/label_map.json'))\n",
    "EMPTY_CLASS = LABEL_MAP['empty']\n",
    "CONFMAT_ARGS = {\n",
    "    'normalize': 'true',\n",
    "    'values_format': '.2f',\n",
    "    'display_labels': list(LABEL_MAP.keys()),\n",
    "    'xticks_rotation': 'vertical',\n",
    "    'colorbar': False,\n",
    "    'cmap': 'Blues',\n",
    "}"
   ]
  },
  {
   "cell_type": "markdown",
   "id": "9b2ae8cf",
   "metadata": {},
   "source": [
    "# IN-SAMPLE"
   ]
  },
  {
   "cell_type": "code",
   "execution_count": 6,
   "id": "728de301",
   "metadata": {},
   "outputs": [],
   "source": [
    "FILES_INSAMPLE = [\n",
    "    os.path.join(RESULTDIR, '0', f) for f in os.listdir(os.path.join(RESULTDIR, '0')) if 'insample_val' in f\n",
    "]\n",
    "RESULTS_INSAMPLE = [load_pickle(f) for f in FILES_INSAMPLE]\n",
    "# THRESHOLDS = list(RESULTS_INSAMPLE[0].keys())\n",
    "THRESHOLDS = [0]"
   ]
  },
  {
   "cell_type": "code",
   "execution_count": 7,
   "id": "60e7185f",
   "metadata": {},
   "outputs": [],
   "source": [
    "# custom averaging functions accounting for specific ordering\n",
    "def average_results(dict_list_preds, list_truth):\n",
    "    ordered_dicts = [{k: d[k] for k in sorted(list(d.keys()))} for d in dict_list_preds]\n",
    "    ordered_arrays = [\n",
    "        np.concatenate([x.reshape(1, len(LABEL_MAP)) for x in list(d.values())]) for d in ordered_dicts\n",
    "    ]\n",
    "    ordered_lists = [\n",
    "        [x[k] for k in [list(d.keys()).index(i) for i in sorted(list(d.keys()))] ]\n",
    "        for x, d in zip(list_truth, dict_list_preds)\n",
    "    ]\n",
    "    return reduce(np.add, ordered_arrays) / len(dict_list_preds), ordered_lists[0]"
   ]
  },
  {
   "cell_type": "code",
   "execution_count": 8,
   "id": "449ac499",
   "metadata": {},
   "outputs": [
    {
     "ename": "TypeError",
     "evalue": "list indices must be integers or slices, not str",
     "output_type": "error",
     "traceback": [
      "\u001b[0;31m---------------------------------------------------------------------------\u001b[0m",
      "\u001b[0;31mTypeError\u001b[0m                                 Traceback (most recent call last)",
      "Cell \u001b[0;32mIn[8], line 5\u001b[0m\n\u001b[1;32m      2\u001b[0m \u001b[38;5;28;01mfor\u001b[39;00m t \u001b[38;5;129;01min\u001b[39;00m THRESHOLDS:\n\u001b[1;32m      3\u001b[0m     results_t \u001b[38;5;241m=\u001b[39m [r[t] \u001b[38;5;28;01mfor\u001b[39;00m r \u001b[38;5;129;01min\u001b[39;00m RESULTS_INSAMPLE]\n\u001b[1;32m      4\u001b[0m     preds_imgs_clf_t, truth_imgs_clf_t \u001b[38;5;241m=\u001b[39m average_results(\n\u001b[0;32m----> 5\u001b[0m         [r[\u001b[38;5;124m'\u001b[39m\u001b[38;5;124mpreds_imgs_clf\u001b[39m\u001b[38;5;124m'\u001b[39m] \u001b[38;5;28;01mfor\u001b[39;00m r \u001b[38;5;129;01min\u001b[39;00m results_t], [r[\u001b[38;5;124m'\u001b[39m\u001b[38;5;124mtruth_imgs_clf\u001b[39m\u001b[38;5;124m'\u001b[39m] \u001b[38;5;28;01mfor\u001b[39;00m r \u001b[38;5;129;01min\u001b[39;00m results_t]\n\u001b[1;32m      6\u001b[0m     )\n\u001b[1;32m      7\u001b[0m     preds_imgs_ppl_t, truth_imgs_ppl_t \u001b[38;5;241m=\u001b[39m average_results(\n\u001b[1;32m      8\u001b[0m         [r[\u001b[38;5;124m'\u001b[39m\u001b[38;5;124mpreds_imgs_ppl\u001b[39m\u001b[38;5;124m'\u001b[39m] \u001b[38;5;28;01mfor\u001b[39;00m r \u001b[38;5;129;01min\u001b[39;00m results_t], [r[\u001b[38;5;124m'\u001b[39m\u001b[38;5;124mtruth_imgs_ppl\u001b[39m\u001b[38;5;124m'\u001b[39m] \u001b[38;5;28;01mfor\u001b[39;00m r \u001b[38;5;129;01min\u001b[39;00m results_t]\n\u001b[1;32m      9\u001b[0m     )\n\u001b[1;32m     10\u001b[0m     results_insample_avg\u001b[38;5;241m.\u001b[39mupdate(\n\u001b[1;32m     11\u001b[0m         {\n\u001b[1;32m     12\u001b[0m             t: {\n\u001b[0;32m   (...)\u001b[0m\n\u001b[1;32m     19\u001b[0m         }\n\u001b[1;32m     20\u001b[0m     )\n",
      "Cell \u001b[0;32mIn[8], line 5\u001b[0m, in \u001b[0;36m<listcomp>\u001b[0;34m(.0)\u001b[0m\n\u001b[1;32m      2\u001b[0m \u001b[38;5;28;01mfor\u001b[39;00m t \u001b[38;5;129;01min\u001b[39;00m THRESHOLDS:\n\u001b[1;32m      3\u001b[0m     results_t \u001b[38;5;241m=\u001b[39m [r[t] \u001b[38;5;28;01mfor\u001b[39;00m r \u001b[38;5;129;01min\u001b[39;00m RESULTS_INSAMPLE]\n\u001b[1;32m      4\u001b[0m     preds_imgs_clf_t, truth_imgs_clf_t \u001b[38;5;241m=\u001b[39m average_results(\n\u001b[0;32m----> 5\u001b[0m         [r[\u001b[38;5;124m'\u001b[39m\u001b[38;5;124mpreds_imgs_clf\u001b[39m\u001b[38;5;124m'\u001b[39m] \u001b[38;5;28;01mfor\u001b[39;00m r \u001b[38;5;129;01min\u001b[39;00m results_t], [r[\u001b[38;5;124m'\u001b[39m\u001b[38;5;124mtruth_imgs_clf\u001b[39m\u001b[38;5;124m'\u001b[39m] \u001b[38;5;28;01mfor\u001b[39;00m r \u001b[38;5;129;01min\u001b[39;00m results_t]\n\u001b[1;32m      6\u001b[0m     )\n\u001b[1;32m      7\u001b[0m     preds_imgs_ppl_t, truth_imgs_ppl_t \u001b[38;5;241m=\u001b[39m average_results(\n\u001b[1;32m      8\u001b[0m         [r[\u001b[38;5;124m'\u001b[39m\u001b[38;5;124mpreds_imgs_ppl\u001b[39m\u001b[38;5;124m'\u001b[39m] \u001b[38;5;28;01mfor\u001b[39;00m r \u001b[38;5;129;01min\u001b[39;00m results_t], [r[\u001b[38;5;124m'\u001b[39m\u001b[38;5;124mtruth_imgs_ppl\u001b[39m\u001b[38;5;124m'\u001b[39m] \u001b[38;5;28;01mfor\u001b[39;00m r \u001b[38;5;129;01min\u001b[39;00m results_t]\n\u001b[1;32m      9\u001b[0m     )\n\u001b[1;32m     10\u001b[0m     results_insample_avg\u001b[38;5;241m.\u001b[39mupdate(\n\u001b[1;32m     11\u001b[0m         {\n\u001b[1;32m     12\u001b[0m             t: {\n\u001b[0;32m   (...)\u001b[0m\n\u001b[1;32m     19\u001b[0m         }\n\u001b[1;32m     20\u001b[0m     )\n",
      "\u001b[0;31mTypeError\u001b[0m: list indices must be integers or slices, not str"
     ]
    }
   ],
   "source": [
    "results_insample_avg = {}\n",
    "for t in THRESHOLDS:\n",
    "#     results_t = [r[t] for r in RESULTS_INSAMPLE]\n",
    "    preds_imgs_clf_t, truth_imgs_clf_t = average_results(\n",
    "        [r['preds_imgs_clf'] for r in RESULTS_INSAMPLE], [r['truth_imgs_clf'] for r in RESULTS_INSAMPLE]\n",
    "    )\n",
    "    preds_imgs_ppl_t, truth_imgs_ppl_t = average_results(\n",
    "        [r['preds_imgs_ppl'] for r in RESULTS_INSAMPLE], [r['truth_imgs_ppl'] for r in RESULTS_INSAMPLE]\n",
    "    )\n",
    "    results_insample_avg.update(\n",
    "        {\n",
    "            t: {\n",
    "                'preds_imgs_clf': preds_imgs_clf_t,\n",
    "                'preds_imgs_ppl': preds_imgs_ppl_t,\n",
    "                'truth_imgs_clf': truth_imgs_clf_t,\n",
    "                'truth_imgs_ppl': truth_imgs_ppl_t\n",
    "                \n",
    "            }\n",
    "        }\n",
    "    )"
   ]
  },
  {
   "cell_type": "code",
   "execution_count": 210,
   "id": "06d66336",
   "metadata": {
    "scrolled": true
   },
   "outputs": [],
   "source": [
    "# RESULTS_INSAMPLE_TEST_01 = load_pickle('results/202303010719_insample_test.pkl')\n",
    "# RESULTS_INSAMPLE_VAL_01 = load_pickle('results/202303010719_insample_test.pkl')\n",
    "# RESULTS_INSAMPLE_TEST_05 = load_pickle('results/202302280915_insample_test.pkl')\n",
    "# RESULTS_INSAMPLE_VAL_05 = load_pickle('results/202302280915_insample_val.pkl')"
   ]
  },
  {
   "cell_type": "code",
   "execution_count": 237,
   "id": "a2e30e2f",
   "metadata": {},
   "outputs": [],
   "source": [
    "# RESULT_FILE = {**RESULTS_INSAMPLE_TEST_01, **RESULTS_INSAMPLE_TEST_05}\n",
    "RESULT_FILE = results_insample_avg\n",
    "THRESHOLDS = list(RESULT_FILE.keys())\n",
    "OUR_THRESH = 0.7\n",
    "PREDS = 'preds_imgs_ppl'\n",
    "TRUTH = 'truth_imgs_ppl'"
   ]
  },
  {
   "cell_type": "markdown",
   "id": "b09249b7",
   "metadata": {},
   "source": [
    "## PERFORMANCE ACROSS THRESHOLDS ON TEST\n",
    "\n",
    "Using varying thresholds for the MD, how well is our pipeline able to 1) classify images overall, 2) detect empty images correctly?"
   ]
  },
  {
   "cell_type": "code",
   "execution_count": 238,
   "id": "3ae3ad2e",
   "metadata": {
    "scrolled": false
   },
   "outputs": [],
   "source": [
    "rows_multiclass = []\n",
    "rows_empty = []\n",
    "\n",
    "for t in sorted(THRESHOLDS):\n",
    "    result = RESULT_FILE[t]\n",
    "    y_true = result[TRUTH]\n",
    "    y_pred = [np.argmax(v) for v in result[PREDS]]\n",
    "    report = classification_report(\n",
    "        y_true=y_true, \n",
    "        y_pred=y_pred,\n",
    "        target_names=list(LABEL_MAP.keys()),\n",
    "        zero_division=0,\n",
    "        output_dict=True,\n",
    "    )\n",
    "    rows_multiclass.append(\n",
    "        [\n",
    "            t,\n",
    "            report['accuracy'], \n",
    "            report['weighted avg']['precision'], \n",
    "            report['weighted avg']['recall'], \n",
    "            report['weighted avg']['f1-score']\n",
    "        ]    \n",
    "    )\n",
    "    conf_empty = multilabel_confusion_matrix(y_true, y_pred, labels=[EMPTY_CLASS])\n",
    "    rows_empty.append(\n",
    "        [\n",
    "            t,\n",
    "            (conf_empty[0][0, 0] + conf_empty[0][1, 1]) / conf_empty.sum(),\n",
    "            report['empty']['precision'],\n",
    "            report['empty']['recall'],\n",
    "            report['empty']['f1-score'],\n",
    "        ]\n",
    "    )\n",
    "df_ins_multiclass = pd.DataFrame(rows_multiclass, columns=['threshold', 'acc', 'prec', 'rec', 'fone'])\n",
    "df_ins_empty = pd.DataFrame(rows_empty, columns=['threshold', 'acc', 'prec', 'rec', 'fone'])"
   ]
  },
  {
   "cell_type": "code",
   "execution_count": 239,
   "id": "76e0f03c",
   "metadata": {
    "scrolled": true
   },
   "outputs": [
    {
     "data": {
      "text/html": [
       "<div>\n",
       "<style scoped>\n",
       "    .dataframe tbody tr th:only-of-type {\n",
       "        vertical-align: middle;\n",
       "    }\n",
       "\n",
       "    .dataframe tbody tr th {\n",
       "        vertical-align: top;\n",
       "    }\n",
       "\n",
       "    .dataframe thead th {\n",
       "        text-align: right;\n",
       "    }\n",
       "</style>\n",
       "<table border=\"1\" class=\"dataframe\">\n",
       "  <thead>\n",
       "    <tr style=\"text-align: right;\">\n",
       "      <th></th>\n",
       "      <th>threshold</th>\n",
       "      <th>acc</th>\n",
       "      <th>prec</th>\n",
       "      <th>rec</th>\n",
       "      <th>fone</th>\n",
       "    </tr>\n",
       "  </thead>\n",
       "  <tbody>\n",
       "    <tr>\n",
       "      <th>0</th>\n",
       "      <td>0.1</td>\n",
       "      <td>0.850593</td>\n",
       "      <td>0.857471</td>\n",
       "      <td>0.850593</td>\n",
       "      <td>0.848479</td>\n",
       "    </tr>\n",
       "    <tr>\n",
       "      <th>1</th>\n",
       "      <td>0.3</td>\n",
       "      <td>0.843478</td>\n",
       "      <td>0.835270</td>\n",
       "      <td>0.843478</td>\n",
       "      <td>0.834618</td>\n",
       "    </tr>\n",
       "    <tr>\n",
       "      <th>2</th>\n",
       "      <td>0.5</td>\n",
       "      <td>0.385771</td>\n",
       "      <td>0.632854</td>\n",
       "      <td>0.385771</td>\n",
       "      <td>0.465317</td>\n",
       "    </tr>\n",
       "    <tr>\n",
       "      <th>3</th>\n",
       "      <td>0.7</td>\n",
       "      <td>0.187352</td>\n",
       "      <td>0.496806</td>\n",
       "      <td>0.187352</td>\n",
       "      <td>0.175641</td>\n",
       "    </tr>\n",
       "    <tr>\n",
       "      <th>4</th>\n",
       "      <td>0.9</td>\n",
       "      <td>0.214229</td>\n",
       "      <td>0.511751</td>\n",
       "      <td>0.214229</td>\n",
       "      <td>0.193937</td>\n",
       "    </tr>\n",
       "  </tbody>\n",
       "</table>\n",
       "</div>"
      ],
      "text/plain": [
       "   threshold       acc      prec       rec      fone\n",
       "0        0.1  0.850593  0.857471  0.850593  0.848479\n",
       "1        0.3  0.843478  0.835270  0.843478  0.834618\n",
       "2        0.5  0.385771  0.632854  0.385771  0.465317\n",
       "3        0.7  0.187352  0.496806  0.187352  0.175641\n",
       "4        0.9  0.214229  0.511751  0.214229  0.193937"
      ]
     },
     "execution_count": 239,
     "metadata": {},
     "output_type": "execute_result"
    }
   ],
   "source": [
    "df_ins_multiclass.sort_values('threshold')  # Table 3"
   ]
  },
  {
   "cell_type": "code",
   "execution_count": 240,
   "id": "e84bdf01",
   "metadata": {
    "scrolled": false
   },
   "outputs": [
    {
     "data": {
      "text/html": [
       "<div>\n",
       "<style scoped>\n",
       "    .dataframe tbody tr th:only-of-type {\n",
       "        vertical-align: middle;\n",
       "    }\n",
       "\n",
       "    .dataframe tbody tr th {\n",
       "        vertical-align: top;\n",
       "    }\n",
       "\n",
       "    .dataframe thead th {\n",
       "        text-align: right;\n",
       "    }\n",
       "</style>\n",
       "<table border=\"1\" class=\"dataframe\">\n",
       "  <thead>\n",
       "    <tr style=\"text-align: right;\">\n",
       "      <th></th>\n",
       "      <th>threshold</th>\n",
       "      <th>acc</th>\n",
       "      <th>prec</th>\n",
       "      <th>rec</th>\n",
       "      <th>fone</th>\n",
       "    </tr>\n",
       "  </thead>\n",
       "  <tbody>\n",
       "    <tr>\n",
       "      <th>0</th>\n",
       "      <td>0.1</td>\n",
       "      <td>0.928063</td>\n",
       "      <td>0.939815</td>\n",
       "      <td>0.722420</td>\n",
       "      <td>0.816901</td>\n",
       "    </tr>\n",
       "    <tr>\n",
       "      <th>1</th>\n",
       "      <td>0.3</td>\n",
       "      <td>0.934387</td>\n",
       "      <td>0.825658</td>\n",
       "      <td>0.893238</td>\n",
       "      <td>0.858120</td>\n",
       "    </tr>\n",
       "    <tr>\n",
       "      <th>2</th>\n",
       "      <td>0.5</td>\n",
       "      <td>0.868775</td>\n",
       "      <td>0.807487</td>\n",
       "      <td>0.537367</td>\n",
       "      <td>0.645299</td>\n",
       "    </tr>\n",
       "    <tr>\n",
       "      <th>3</th>\n",
       "      <td>0.7</td>\n",
       "      <td>0.861660</td>\n",
       "      <td>0.705426</td>\n",
       "      <td>0.647687</td>\n",
       "      <td>0.675325</td>\n",
       "    </tr>\n",
       "    <tr>\n",
       "      <th>4</th>\n",
       "      <td>0.9</td>\n",
       "      <td>0.854545</td>\n",
       "      <td>0.643068</td>\n",
       "      <td>0.775801</td>\n",
       "      <td>0.703226</td>\n",
       "    </tr>\n",
       "  </tbody>\n",
       "</table>\n",
       "</div>"
      ],
      "text/plain": [
       "   threshold       acc      prec       rec      fone\n",
       "0        0.1  0.928063  0.939815  0.722420  0.816901\n",
       "1        0.3  0.934387  0.825658  0.893238  0.858120\n",
       "2        0.5  0.868775  0.807487  0.537367  0.645299\n",
       "3        0.7  0.861660  0.705426  0.647687  0.675325\n",
       "4        0.9  0.854545  0.643068  0.775801  0.703226"
      ]
     },
     "execution_count": 240,
     "metadata": {},
     "output_type": "execute_result"
    }
   ],
   "source": [
    "df_ins_empty.sort_values('threshold')  # Table 2"
   ]
  },
  {
   "cell_type": "markdown",
   "id": "f684d7c5",
   "metadata": {},
   "source": [
    "## PERFORMANCE"
   ]
  },
  {
   "cell_type": "code",
   "execution_count": 221,
   "id": "efc877ff",
   "metadata": {},
   "outputs": [
    {
     "name": "stdout",
     "output_type": "stream",
     "text": [
      "               precision    recall  f1-score   support\n",
      "\n",
      "        empty       0.67      0.79      0.72       312\n",
      "european_hare       0.05      0.50      0.09        56\n",
      "       others       0.04      0.01      0.01       111\n",
      "     red_deer       0.00      0.00      0.00         7\n",
      "      red_fox       0.09      0.17      0.12        92\n",
      " red_squirrel       0.12      0.30      0.17        43\n",
      "     roe_deer       0.86      0.01      0.03       862\n",
      "    wild_boar       0.03      0.12      0.05        25\n",
      "\n",
      "     accuracy                           0.21      1508\n",
      "    macro avg       0.23      0.24      0.15      1508\n",
      " weighted avg       0.64      0.21      0.18      1508\n",
      "\n"
     ]
    },
    {
     "data": {
      "text/plain": [
       "<sklearn.metrics._plot.confusion_matrix.ConfusionMatrixDisplay at 0x7fc736813640>"
      ]
     },
     "execution_count": 221,
     "metadata": {},
     "output_type": "execute_result"
    },
    {
     "data": {
      "image/png": "[encoded data removed]",
      "text/plain": [
       "<Figure size 640x480 with 1 Axes>"
      ]
     },
     "metadata": {},
     "output_type": "display_data"
    }
   ],
   "source": [
    "result_ours = results_insample_avg[0.9]\n",
    "y_true = result_ours['truth_imgs_ppl']\n",
    "y_pred = [np.argmax(v) for v in result_ours['preds_imgs_ppl']]\n",
    "report = classification_report(\n",
    "    y_true=y_true, \n",
    "    y_pred=y_pred,\n",
    "    target_names=list(LABEL_MAP.keys())\n",
    ")\n",
    "print(report)  # Figure 3\n",
    "ConfusionMatrixDisplay.from_predictions(y_true=y_true, y_pred=y_pred, **CONFMAT_ARGS)"
   ]
  },
  {
   "cell_type": "markdown",
   "id": "3e11fe27",
   "metadata": {},
   "source": [
    "# OUT-OF-SAMPLE"
   ]
  },
  {
   "cell_type": "markdown",
   "id": "ea2c9861",
   "metadata": {},
   "source": [
    "## PERFORMANCE"
   ]
  },
  {
   "cell_type": "code",
   "execution_count": 11,
   "id": "d3d5112d",
   "metadata": {},
   "outputs": [],
   "source": [
    "RESULTS_OOSAMPLE = load_pickle('results/202302240832_oosample.pkl')"
   ]
  },
  {
   "cell_type": "code",
   "execution_count": 12,
   "id": "cebeeb1f",
   "metadata": {
    "scrolled": true
   },
   "outputs": [],
   "source": [
    "y_true = RESULTS_OOSAMPLE['truth_imgs_ppl']\n",
    "y_pred = [np.argmax(v) for v in RESULTS_OOSAMPLE['preds_imgs_ppl'].values()]\n",
    "report_dict = classification_report(\n",
    "    y_true=y_true, \n",
    "    y_pred=y_pred,\n",
    "    target_names=list(LABEL_MAP.keys()),\n",
    "    output_dict=True,\n",
    ")\n",
    "rows_oos_multiclass = []\n",
    "rows_oos_multiclass.append(\n",
    "    [\n",
    "        report_dict['accuracy'], \n",
    "        report_dict['weighted avg']['precision'], \n",
    "        report_dict['weighted avg']['recall'], \n",
    "        report_dict['weighted avg']['f1-score']\n",
    "    ]\n",
    ")\n"
   ]
  },
  {
   "cell_type": "code",
   "execution_count": 13,
   "id": "0305fe6a",
   "metadata": {},
   "outputs": [],
   "source": [
    "df_oos_multiclass = pd.DataFrame(\n",
    "    rows_oos_multiclass,\n",
    "    columns=['acc', 'prec', 'rec', 'fone']\n",
    ")\n",
    "df_multiclass = pd.concat([df_ins_multiclass.loc[df_ins_multiclass['threshold'] == OUR_THRESH], df_oos_multiclass])\n",
    "df_multiclass.index = ['ins', 'oos']"
   ]
  },
  {
   "cell_type": "code",
   "execution_count": 14,
   "id": "99b193d6",
   "metadata": {},
   "outputs": [
    {
     "data": {
      "text/html": [
       "<div>\n",
       "<style scoped>\n",
       "    .dataframe tbody tr th:only-of-type {\n",
       "        vertical-align: middle;\n",
       "    }\n",
       "\n",
       "    .dataframe tbody tr th {\n",
       "        vertical-align: top;\n",
       "    }\n",
       "\n",
       "    .dataframe thead th {\n",
       "        text-align: right;\n",
       "    }\n",
       "</style>\n",
       "<table border=\"1\" class=\"dataframe\">\n",
       "  <thead>\n",
       "    <tr style=\"text-align: right;\">\n",
       "      <th></th>\n",
       "      <th>acc</th>\n",
       "      <th>prec</th>\n",
       "      <th>rec</th>\n",
       "      <th>fone</th>\n",
       "    </tr>\n",
       "  </thead>\n",
       "  <tbody>\n",
       "    <tr>\n",
       "      <th>ins</th>\n",
       "      <td>0.877925</td>\n",
       "      <td>0.876128</td>\n",
       "      <td>0.877925</td>\n",
       "      <td>0.874281</td>\n",
       "    </tr>\n",
       "    <tr>\n",
       "      <th>oos</th>\n",
       "      <td>0.721370</td>\n",
       "      <td>0.743104</td>\n",
       "      <td>0.721370</td>\n",
       "      <td>0.706258</td>\n",
       "    </tr>\n",
       "  </tbody>\n",
       "</table>\n",
       "</div>"
      ],
      "text/plain": [
       "          acc      prec       rec      fone\n",
       "ins  0.877925  0.876128  0.877925  0.874281\n",
       "oos  0.721370  0.743104  0.721370  0.706258"
      ]
     },
     "execution_count": 14,
     "metadata": {},
     "output_type": "execute_result"
    }
   ],
   "source": [
    "df_multiclass.drop(['threshold'], axis=1)  # Table 5"
   ]
  },
  {
   "cell_type": "code",
   "execution_count": 15,
   "id": "0def33e8",
   "metadata": {},
   "outputs": [
    {
     "name": "stdout",
     "output_type": "stream",
     "text": [
      "               precision    recall  f1-score   support\n",
      "\n",
      "        empty       0.87      0.41      0.56       371\n",
      "european_hare       0.60      0.52      0.56        29\n",
      "       others       0.29      0.25      0.27       119\n",
      "     red_deer       0.50      0.18      0.26        17\n",
      "      red_fox       0.33      0.56      0.42        18\n",
      " red_squirrel       0.05      1.00      0.09         1\n",
      "     roe_deer       0.75      0.92      0.83      1015\n",
      "    wild_boar       0.86      0.65      0.74       124\n",
      "\n",
      "     accuracy                           0.72      1694\n",
      "    macro avg       0.53      0.56      0.46      1694\n",
      " weighted avg       0.74      0.72      0.71      1694\n",
      "\n"
     ]
    },
    {
     "data": {
      "text/plain": [
       "<sklearn.metrics._plot.confusion_matrix.ConfusionMatrixDisplay at 0x7f11a8ce8700>"
      ]
     },
     "execution_count": 15,
     "metadata": {},
     "output_type": "execute_result"
    },
    {
     "data": {
      "image/png": "[encoded data removed]",
      "text/plain": [
       "<Figure size 640x480 with 1 Axes>"
      ]
     },
     "metadata": {},
     "output_type": "display_data"
    }
   ],
   "source": [
    "print(  # Figure 5\n",
    "    classification_report(\n",
    "        y_true=y_true, \n",
    "        y_pred=y_pred,\n",
    "        target_names=list(LABEL_MAP.keys())\n",
    "    )\n",
    "\n",
    ") \n",
    "ConfusionMatrixDisplay.from_predictions(y_true=y_true, y_pred=y_pred, **CONFMAT_ARGS)"
   ]
  },
  {
   "cell_type": "markdown",
   "id": "e0df1f9e",
   "metadata": {},
   "source": [
    "## ACTIVE LEARNING"
   ]
  },
  {
   "cell_type": "code",
   "execution_count": null,
   "id": "e67c4c1a",
   "metadata": {},
   "outputs": [],
   "source": [
    "RESULTS_ACTIVE_UPPER_BASELINE = load_pickle('results/202302101959_results_active_optimal.pkl')"
   ]
  },
  {
   "cell_type": "code",
   "execution_count": null,
   "id": "8e81e8c5",
   "metadata": {},
   "outputs": [],
   "source": [
    "print(\n",
    "    classification_report(\n",
    "        y_true=RESULTS_ACTIVE_UPPER_BASELINE['truth_imgs_ppl'], \n",
    "        y_pred=[np.argmax(v) for v in RESULTS_ACTIVE_UPPER_BASELINE['preds_imgs_ppl'].values()],\n",
    "        target_names=list(LABEL_MAP.keys())\n",
    "    )\n",
    "\n",
    ") "
   ]
  },
  {
   "cell_type": "code",
   "execution_count": null,
   "id": "f17ffe18",
   "metadata": {},
   "outputs": [],
   "source": [
    "# eval_upper_perf_limit = load_pickle(\n",
    "#     'results/202212011038_results_oosample_active_optimal.json'\n",
    "# )\n",
    "# eval_al_coldstart = load_pickle('results/202212041731_eval_logfile_coldstart.json')\n",
    "# eval_al_warmstart = load_pickle('results/202212080940_eval_logfile_warmstart.json')\n",
    "# # compute relative sample size per iteration\n",
    "# # (sizes hard-coded for training)\n",
    "# n_samples_total = len(load_pickle('data/dataset_oos_trainval.pkl').keys)\n",
    "# num_max_batches = (\n",
    "#     (n_samples_total - (5 * 128 + 5 * 256 + 5 * 512)) // 1024\n",
    "# )\n",
    "# size_last_batch = (\n",
    "#     n_samples_total - (5 * 128 + 5 * 256 + 5 * 512 + num_max_batches * 1024)\n",
    "# )\n",
    "# batch_sizes = (\n",
    "#     5 * [128] + 5 * [256] + 5 * [512] + num_max_batches * [1024]\n",
    "# )\n",
    "# if size_last_batch > 0:\n",
    "#     batch_sizes.append(size_last_batch)\n",
    "# batch_sizes_cs = np.cumsum([x / n_samples_total for x in batch_sizes])\n",
    "# # inspect upper performance limit\n",
    "# df_pred_upper_perf_limit = rf.build_df_pred(eval_upper_perf_limit, label_dict, detector_dict, image_data_dir)\n",
    "# df_pred_upper_perf_limit = rf.labelize_df_pred(df_pred_upper_perf_limit, label_map)\n",
    "# df_pred_upper_perf_limit = pd.merge(df_pred_upper_perf_limit, df_meta, on=['img_name', 'true_class'], how='inner')\n",
    "# report_upper_perf_limit = classification_report(\n",
    "#     y_true=df_pred_upper_perf_limit['true_class'],\n",
    "#     y_pred=df_pred_upper_perf_limit['pred_class'],\n",
    "#     labels=labels,\n",
    "#     zero_division=0,\n",
    "#     output_dict=False,\n",
    "# )\n",
    "# print(report_upper_perf_limit)\n",
    "\n",
    "# rf.inspect_confusion(\n",
    "#     df_pred=df_pred_upper_perf_limit,\n",
    "#     normalize=True,\n",
    "#     labels=labels,\n",
    "#     ax=None,\n",
    "# )\n",
    "# report_upper_perf_limit_dict = classification_report(\n",
    "#     y_true=df_pred_upper_perf_limit['true_class'],\n",
    "#     y_pred=df_pred_upper_perf_limit['pred_class'],\n",
    "#     labels=labels,\n",
    "#     zero_division=0,\n",
    "#     output_dict=True,\n",
    "# )\n",
    "# print(report_upper_perf_limit_dict)\n",
    "# # compute metrics per iteration\n",
    "\n",
    "# acc_coldstart = []\n",
    "# rec_coldstart = []\n",
    "# acc_warmstart = []\n",
    "# rec_warmstart = []\n",
    "\n",
    "# for iteration in eval_al_coldstart.keys():\n",
    "#     df_cs = rf.build_df_pred(eval_al_coldstart[iteration], label_dict, detector_dict, image_data_dir)\n",
    "#     df_cs = rf.labelize_df_pred(df_cs, label_map)\n",
    "#     df_cs = pd.merge(df_cs, df_meta, on=['img_name', 'true_class'], how='inner')\n",
    "#     report_cs = classification_report(\n",
    "#         y_true=df_cs['true_class'],\n",
    "#         y_pred=df_cs['pred_class'],\n",
    "#         labels=labels,\n",
    "#         zero_division=0,\n",
    "#         output_dict=True,\n",
    "#     )\n",
    "#     df_ws = rf.build_df_pred(eval_al_warmstart[iteration], label_dict, detector_dict, image_data_dir)\n",
    "#     df_ws = rf.labelize_df_pred(df_ws, label_map)\n",
    "#     df_ws = pd.merge(df_ws, df_meta, on=['img_name', 'true_class'], how='inner')\n",
    "#     report_ws = classification_report(\n",
    "#         y_true=df_ws['true_class'],\n",
    "#         y_pred=df_ws['pred_class'],\n",
    "#         labels=labels,\n",
    "#         zero_division=0,\n",
    "#         output_dict=True,\n",
    "#     )\n",
    "#     acc_coldstart.append(report_cs['accuracy'])\n",
    "#     rec_coldstart.append(report_cs['weighted avg']['recall'])\n",
    "#     acc_warmstart.append(report_ws['accuracy'])\n",
    "#     rec_warmstart.append(report_ws['weighted avg']['recall'])\n",
    "\n",
    "# # create data for plot\n",
    "# al_perf_acc = {\n",
    "#     'relative_size': batch_sizes_cs[1:],\n",
    "#     'acc_lower_limit': [report_lower_perf_limit_dict['accuracy'] for _ in range(len(acc_coldstart))],\n",
    "#     'acc_upper_limit': [report_upper_perf_limit_dict['accuracy'] for _ in range(len(acc_coldstart))],\n",
    "#     'acc_coldstart': acc_coldstart,\n",
    "#     'acc_warmstart': acc_warmstart\n",
    "# }\n",
    "# al_perf_acc_pd = pd.DataFrame(al_perf_acc)\n",
    "# al_perf_rec = {\n",
    "#     'relative_size': batch_sizes_cs[1:],\n",
    "#     'rec_lower_limit': [report_lower_perf_limit_dict['weighted avg']['recall'] for _ in range(len(acc_coldstart))],\n",
    "#     'rec_upper_limit': [report_upper_perf_limit_dict['weighted avg']['recall'] for _ in range(len(acc_coldstart))],\n",
    "#     'rec_coldstart': rec_coldstart,\n",
    "#     'rec_warmstart': rec_warmstart\n",
    "# }\n",
    "# al_perf_acc_pd = pd.DataFrame(al_perf_acc)\n",
    "# al_perf_rec_pd = pd.DataFrame(al_perf_rec)\n",
    "# plt = sns.lineplot(\n",
    "#     data=pd.melt(al_perf_acc_pd, id_vars='relative_size'),\n",
    "#     x='relative_size',\n",
    "#     y='value',\n",
    "#     hue='variable',\n",
    "#     style='variable'\n",
    "# )\n",
    "# plt.set(xlabel='relative sample size', ylabel='accuracy')\n",
    "# plt.legend(\n",
    "#     title='training mode', \n",
    "#     loc='lower right', \n",
    "#     labels=['lower baseline', 'upper baseline', 'cold start', 'warm start']\n",
    "# )\n",
    "# plt.figure.savefig('oos_active.eps')"
   ]
  }
 ],
 "metadata": {
  "kernelspec": {
   "display_name": "Python 3 (ipykernel)",
   "language": "python",
   "name": "python3"
  },
  "language_info": {
   "codemirror_mode": {
    "name": "ipython",
    "version": 3
   },
   "file_extension": ".py",
   "mimetype": "text/x-python",
   "name": "python",
   "nbconvert_exporter": "python",
   "pygments_lexer": "ipython3",
   "version": "3.10.4"
  }
 },
 "nbformat": 4,
 "nbformat_minor": 5
}
